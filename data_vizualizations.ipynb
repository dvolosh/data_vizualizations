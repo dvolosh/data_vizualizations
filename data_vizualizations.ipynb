{
 "cells": [
  {
   "cell_type": "markdown",
   "metadata": {},
   "source": [
    "## The dataset was obtained from Kaggle(https://www.kaggle.com/datasets/nelgiriyewithana/top-spotify-songs-2023). It includes a comprehensive list of most famous songs in 2023 as listed on Spotify. We will perform some data cleaning and exploration and then construct some vizualizations"
   ]
  },
  {
   "cell_type": "code",
   "execution_count": 1,
   "metadata": {},
   "outputs": [],
   "source": [
    "from datascience import *\n",
    "import numpy as np\n",
    "import pandas as pd\n",
    "%matplotlib inline\n",
    "import matplotlib.pyplot as plots\n",
    "plots.style.use('fivethirtyeight')\n",
    "\n",
    "import warnings\n",
    "warnings.simplefilter('ignore', FutureWarning)"
   ]
  },
  {
   "cell_type": "code",
   "execution_count": 2,
   "metadata": {},
   "outputs": [
    {
     "data": {
      "text/html": [
       "<div>\n",
       "<style scoped>\n",
       "    .dataframe tbody tr th:only-of-type {\n",
       "        vertical-align: middle;\n",
       "    }\n",
       "\n",
       "    .dataframe tbody tr th {\n",
       "        vertical-align: top;\n",
       "    }\n",
       "\n",
       "    .dataframe thead th {\n",
       "        text-align: right;\n",
       "    }\n",
       "</style>\n",
       "<table border=\"1\" class=\"dataframe\">\n",
       "  <thead>\n",
       "    <tr style=\"text-align: right;\">\n",
       "      <th></th>\n",
       "      <th>track_name</th>\n",
       "      <th>artist(s)_name</th>\n",
       "      <th>artist_count</th>\n",
       "      <th>released_year</th>\n",
       "      <th>released_month</th>\n",
       "      <th>released_day</th>\n",
       "      <th>in_spotify_playlists</th>\n",
       "      <th>in_spotify_charts</th>\n",
       "      <th>streams</th>\n",
       "      <th>in_apple_playlists</th>\n",
       "      <th>...</th>\n",
       "      <th>bpm</th>\n",
       "      <th>key</th>\n",
       "      <th>mode</th>\n",
       "      <th>danceability_%</th>\n",
       "      <th>valence_%</th>\n",
       "      <th>energy_%</th>\n",
       "      <th>acousticness_%</th>\n",
       "      <th>instrumentalness_%</th>\n",
       "      <th>liveness_%</th>\n",
       "      <th>speechiness_%</th>\n",
       "    </tr>\n",
       "  </thead>\n",
       "  <tbody>\n",
       "    <tr>\n",
       "      <th>0</th>\n",
       "      <td>Seven (feat. Latto) (Explicit Ver.)</td>\n",
       "      <td>Latto, Jung Kook</td>\n",
       "      <td>2</td>\n",
       "      <td>2023</td>\n",
       "      <td>7</td>\n",
       "      <td>14</td>\n",
       "      <td>553</td>\n",
       "      <td>147</td>\n",
       "      <td>141381703</td>\n",
       "      <td>43</td>\n",
       "      <td>...</td>\n",
       "      <td>125</td>\n",
       "      <td>B</td>\n",
       "      <td>Major</td>\n",
       "      <td>80</td>\n",
       "      <td>89</td>\n",
       "      <td>83</td>\n",
       "      <td>31</td>\n",
       "      <td>0</td>\n",
       "      <td>8</td>\n",
       "      <td>4</td>\n",
       "    </tr>\n",
       "    <tr>\n",
       "      <th>1</th>\n",
       "      <td>LALA</td>\n",
       "      <td>Myke Towers</td>\n",
       "      <td>1</td>\n",
       "      <td>2023</td>\n",
       "      <td>3</td>\n",
       "      <td>23</td>\n",
       "      <td>1474</td>\n",
       "      <td>48</td>\n",
       "      <td>133716286</td>\n",
       "      <td>48</td>\n",
       "      <td>...</td>\n",
       "      <td>92</td>\n",
       "      <td>C#</td>\n",
       "      <td>Major</td>\n",
       "      <td>71</td>\n",
       "      <td>61</td>\n",
       "      <td>74</td>\n",
       "      <td>7</td>\n",
       "      <td>0</td>\n",
       "      <td>10</td>\n",
       "      <td>4</td>\n",
       "    </tr>\n",
       "    <tr>\n",
       "      <th>2</th>\n",
       "      <td>vampire</td>\n",
       "      <td>Olivia Rodrigo</td>\n",
       "      <td>1</td>\n",
       "      <td>2023</td>\n",
       "      <td>6</td>\n",
       "      <td>30</td>\n",
       "      <td>1397</td>\n",
       "      <td>113</td>\n",
       "      <td>140003974</td>\n",
       "      <td>94</td>\n",
       "      <td>...</td>\n",
       "      <td>138</td>\n",
       "      <td>F</td>\n",
       "      <td>Major</td>\n",
       "      <td>51</td>\n",
       "      <td>32</td>\n",
       "      <td>53</td>\n",
       "      <td>17</td>\n",
       "      <td>0</td>\n",
       "      <td>31</td>\n",
       "      <td>6</td>\n",
       "    </tr>\n",
       "    <tr>\n",
       "      <th>3</th>\n",
       "      <td>Cruel Summer</td>\n",
       "      <td>Taylor Swift</td>\n",
       "      <td>1</td>\n",
       "      <td>2019</td>\n",
       "      <td>8</td>\n",
       "      <td>23</td>\n",
       "      <td>7858</td>\n",
       "      <td>100</td>\n",
       "      <td>800840817</td>\n",
       "      <td>116</td>\n",
       "      <td>...</td>\n",
       "      <td>170</td>\n",
       "      <td>A</td>\n",
       "      <td>Major</td>\n",
       "      <td>55</td>\n",
       "      <td>58</td>\n",
       "      <td>72</td>\n",
       "      <td>11</td>\n",
       "      <td>0</td>\n",
       "      <td>11</td>\n",
       "      <td>15</td>\n",
       "    </tr>\n",
       "    <tr>\n",
       "      <th>4</th>\n",
       "      <td>WHERE SHE GOES</td>\n",
       "      <td>Bad Bunny</td>\n",
       "      <td>1</td>\n",
       "      <td>2023</td>\n",
       "      <td>5</td>\n",
       "      <td>18</td>\n",
       "      <td>3133</td>\n",
       "      <td>50</td>\n",
       "      <td>303236322</td>\n",
       "      <td>84</td>\n",
       "      <td>...</td>\n",
       "      <td>144</td>\n",
       "      <td>A</td>\n",
       "      <td>Minor</td>\n",
       "      <td>65</td>\n",
       "      <td>23</td>\n",
       "      <td>80</td>\n",
       "      <td>14</td>\n",
       "      <td>63</td>\n",
       "      <td>11</td>\n",
       "      <td>6</td>\n",
       "    </tr>\n",
       "    <tr>\n",
       "      <th>...</th>\n",
       "      <td>...</td>\n",
       "      <td>...</td>\n",
       "      <td>...</td>\n",
       "      <td>...</td>\n",
       "      <td>...</td>\n",
       "      <td>...</td>\n",
       "      <td>...</td>\n",
       "      <td>...</td>\n",
       "      <td>...</td>\n",
       "      <td>...</td>\n",
       "      <td>...</td>\n",
       "      <td>...</td>\n",
       "      <td>...</td>\n",
       "      <td>...</td>\n",
       "      <td>...</td>\n",
       "      <td>...</td>\n",
       "      <td>...</td>\n",
       "      <td>...</td>\n",
       "      <td>...</td>\n",
       "      <td>...</td>\n",
       "      <td>...</td>\n",
       "    </tr>\n",
       "    <tr>\n",
       "      <th>948</th>\n",
       "      <td>My Mind &amp; Me</td>\n",
       "      <td>Selena Gomez</td>\n",
       "      <td>1</td>\n",
       "      <td>2022</td>\n",
       "      <td>11</td>\n",
       "      <td>3</td>\n",
       "      <td>953</td>\n",
       "      <td>0</td>\n",
       "      <td>91473363</td>\n",
       "      <td>61</td>\n",
       "      <td>...</td>\n",
       "      <td>144</td>\n",
       "      <td>A</td>\n",
       "      <td>Major</td>\n",
       "      <td>60</td>\n",
       "      <td>24</td>\n",
       "      <td>39</td>\n",
       "      <td>57</td>\n",
       "      <td>0</td>\n",
       "      <td>8</td>\n",
       "      <td>3</td>\n",
       "    </tr>\n",
       "    <tr>\n",
       "      <th>949</th>\n",
       "      <td>Bigger Than The Whole Sky</td>\n",
       "      <td>Taylor Swift</td>\n",
       "      <td>1</td>\n",
       "      <td>2022</td>\n",
       "      <td>10</td>\n",
       "      <td>21</td>\n",
       "      <td>1180</td>\n",
       "      <td>0</td>\n",
       "      <td>121871870</td>\n",
       "      <td>4</td>\n",
       "      <td>...</td>\n",
       "      <td>166</td>\n",
       "      <td>F#</td>\n",
       "      <td>Major</td>\n",
       "      <td>42</td>\n",
       "      <td>7</td>\n",
       "      <td>24</td>\n",
       "      <td>83</td>\n",
       "      <td>1</td>\n",
       "      <td>12</td>\n",
       "      <td>6</td>\n",
       "    </tr>\n",
       "    <tr>\n",
       "      <th>950</th>\n",
       "      <td>A Veces (feat. Feid)</td>\n",
       "      <td>Feid, Paulo Londra</td>\n",
       "      <td>2</td>\n",
       "      <td>2022</td>\n",
       "      <td>11</td>\n",
       "      <td>3</td>\n",
       "      <td>573</td>\n",
       "      <td>0</td>\n",
       "      <td>73513683</td>\n",
       "      <td>2</td>\n",
       "      <td>...</td>\n",
       "      <td>92</td>\n",
       "      <td>C#</td>\n",
       "      <td>Major</td>\n",
       "      <td>80</td>\n",
       "      <td>81</td>\n",
       "      <td>67</td>\n",
       "      <td>4</td>\n",
       "      <td>0</td>\n",
       "      <td>8</td>\n",
       "      <td>6</td>\n",
       "    </tr>\n",
       "    <tr>\n",
       "      <th>951</th>\n",
       "      <td>En La De Ella</td>\n",
       "      <td>Feid, Sech, Jhayco</td>\n",
       "      <td>3</td>\n",
       "      <td>2022</td>\n",
       "      <td>10</td>\n",
       "      <td>20</td>\n",
       "      <td>1320</td>\n",
       "      <td>0</td>\n",
       "      <td>133895612</td>\n",
       "      <td>29</td>\n",
       "      <td>...</td>\n",
       "      <td>97</td>\n",
       "      <td>C#</td>\n",
       "      <td>Major</td>\n",
       "      <td>82</td>\n",
       "      <td>67</td>\n",
       "      <td>77</td>\n",
       "      <td>8</td>\n",
       "      <td>0</td>\n",
       "      <td>12</td>\n",
       "      <td>5</td>\n",
       "    </tr>\n",
       "    <tr>\n",
       "      <th>952</th>\n",
       "      <td>Alone</td>\n",
       "      <td>Burna Boy</td>\n",
       "      <td>1</td>\n",
       "      <td>2022</td>\n",
       "      <td>11</td>\n",
       "      <td>4</td>\n",
       "      <td>782</td>\n",
       "      <td>2</td>\n",
       "      <td>96007391</td>\n",
       "      <td>27</td>\n",
       "      <td>...</td>\n",
       "      <td>90</td>\n",
       "      <td>E</td>\n",
       "      <td>Minor</td>\n",
       "      <td>61</td>\n",
       "      <td>32</td>\n",
       "      <td>67</td>\n",
       "      <td>15</td>\n",
       "      <td>0</td>\n",
       "      <td>11</td>\n",
       "      <td>5</td>\n",
       "    </tr>\n",
       "  </tbody>\n",
       "</table>\n",
       "<p>953 rows × 24 columns</p>\n",
       "</div>"
      ],
      "text/plain": [
       "                              track_name      artist(s)_name  artist_count  \\\n",
       "0    Seven (feat. Latto) (Explicit Ver.)    Latto, Jung Kook             2   \n",
       "1                                   LALA         Myke Towers             1   \n",
       "2                                vampire      Olivia Rodrigo             1   \n",
       "3                           Cruel Summer        Taylor Swift             1   \n",
       "4                         WHERE SHE GOES           Bad Bunny             1   \n",
       "..                                   ...                 ...           ...   \n",
       "948                         My Mind & Me        Selena Gomez             1   \n",
       "949            Bigger Than The Whole Sky        Taylor Swift             1   \n",
       "950                 A Veces (feat. Feid)  Feid, Paulo Londra             2   \n",
       "951                        En La De Ella  Feid, Sech, Jhayco             3   \n",
       "952                                Alone           Burna Boy             1   \n",
       "\n",
       "     released_year  released_month  released_day  in_spotify_playlists  \\\n",
       "0             2023               7            14                   553   \n",
       "1             2023               3            23                  1474   \n",
       "2             2023               6            30                  1397   \n",
       "3             2019               8            23                  7858   \n",
       "4             2023               5            18                  3133   \n",
       "..             ...             ...           ...                   ...   \n",
       "948           2022              11             3                   953   \n",
       "949           2022              10            21                  1180   \n",
       "950           2022              11             3                   573   \n",
       "951           2022              10            20                  1320   \n",
       "952           2022              11             4                   782   \n",
       "\n",
       "     in_spotify_charts    streams  in_apple_playlists  ...  bpm key   mode  \\\n",
       "0                  147  141381703                  43  ...  125   B  Major   \n",
       "1                   48  133716286                  48  ...   92  C#  Major   \n",
       "2                  113  140003974                  94  ...  138   F  Major   \n",
       "3                  100  800840817                 116  ...  170   A  Major   \n",
       "4                   50  303236322                  84  ...  144   A  Minor   \n",
       "..                 ...        ...                 ...  ...  ...  ..    ...   \n",
       "948                  0   91473363                  61  ...  144   A  Major   \n",
       "949                  0  121871870                   4  ...  166  F#  Major   \n",
       "950                  0   73513683                   2  ...   92  C#  Major   \n",
       "951                  0  133895612                  29  ...   97  C#  Major   \n",
       "952                  2   96007391                  27  ...   90   E  Minor   \n",
       "\n",
       "    danceability_%  valence_% energy_% acousticness_%  instrumentalness_%  \\\n",
       "0               80         89       83             31                   0   \n",
       "1               71         61       74              7                   0   \n",
       "2               51         32       53             17                   0   \n",
       "3               55         58       72             11                   0   \n",
       "4               65         23       80             14                  63   \n",
       "..             ...        ...      ...            ...                 ...   \n",
       "948             60         24       39             57                   0   \n",
       "949             42          7       24             83                   1   \n",
       "950             80         81       67              4                   0   \n",
       "951             82         67       77              8                   0   \n",
       "952             61         32       67             15                   0   \n",
       "\n",
       "     liveness_%  speechiness_%  \n",
       "0             8              4  \n",
       "1            10              4  \n",
       "2            31              6  \n",
       "3            11             15  \n",
       "4            11              6  \n",
       "..          ...            ...  \n",
       "948           8              3  \n",
       "949          12              6  \n",
       "950           8              6  \n",
       "951          12              5  \n",
       "952          11              5  \n",
       "\n",
       "[953 rows x 24 columns]"
      ]
     },
     "execution_count": 2,
     "metadata": {},
     "output_type": "execute_result"
    }
   ],
   "source": [
    "spotify = pd.read_csv(r\"C:\\Users\\Davyd Voloshyn\\personal_projects_workspace\\spotify.csv\", encoding='latin-1',)\n",
    "spotify"
   ]
  },
  {
   "cell_type": "code",
   "execution_count": 3,
   "metadata": {},
   "outputs": [
    {
     "data": {
      "text/plain": [
       "(953, 24)"
      ]
     },
     "execution_count": 3,
     "metadata": {},
     "output_type": "execute_result"
    }
   ],
   "source": [
    "spotify.shape"
   ]
  },
  {
   "cell_type": "code",
   "execution_count": 4,
   "metadata": {},
   "outputs": [
    {
     "data": {
      "text/plain": [
       "Index(['track_name', 'artist(s)_name', 'artist_count', 'released_year',\n",
       "       'released_month', 'released_day', 'in_spotify_playlists',\n",
       "       'in_spotify_charts', 'streams', 'in_apple_playlists', 'in_apple_charts',\n",
       "       'in_deezer_playlists', 'in_deezer_charts', 'in_shazam_charts', 'bpm',\n",
       "       'key', 'mode', 'danceability_%', 'valence_%', 'energy_%',\n",
       "       'acousticness_%', 'instrumentalness_%', 'liveness_%', 'speechiness_%'],\n",
       "      dtype='object')"
      ]
     },
     "execution_count": 4,
     "metadata": {},
     "output_type": "execute_result"
    }
   ],
   "source": [
    "spotify.columns"
   ]
  },
  {
   "cell_type": "code",
   "execution_count": 5,
   "metadata": {},
   "outputs": [
    {
     "name": "stderr",
     "output_type": "stream",
     "text": [
      "C:\\Users\\Davyd Voloshyn\\AppData\\Local\\Temp\\ipykernel_30104\\2122544044.py:6: SettingWithCopyWarning: \n",
      "A value is trying to be set on a copy of a slice from a DataFrame.\n",
      "Try using .loc[row_indexer,col_indexer] = value instead\n",
      "\n",
      "See the caveats in the documentation: https://pandas.pydata.org/pandas-docs/stable/user_guide/indexing.html#returning-a-view-versus-a-copy\n",
      "  spotify['streams'] = spotify['streams'].apply(int)\n"
     ]
    },
    {
     "data": {
      "text/plain": [
       "track_name              object\n",
       "artist(s)_name          object\n",
       "artist_count             int64\n",
       "released_year            int64\n",
       "released_month           int64\n",
       "released_day             int64\n",
       "in_spotify_playlists     int64\n",
       "in_spotify_charts        int64\n",
       "streams                  int64\n",
       "in_apple_playlists       int64\n",
       "in_apple_charts          int64\n",
       "in_deezer_playlists     object\n",
       "in_deezer_charts         int64\n",
       "in_shazam_charts        object\n",
       "bpm                      int64\n",
       "key                     object\n",
       "mode                    object\n",
       "danceability_%           int64\n",
       "valence_%                int64\n",
       "energy_%                 int64\n",
       "acousticness_%           int64\n",
       "instrumentalness_%       int64\n",
       "liveness_%               int64\n",
       "speechiness_%            int64\n",
       "dtype: object"
      ]
     },
     "execution_count": 5,
     "metadata": {},
     "output_type": "execute_result"
    }
   ],
   "source": [
    "spotify.dtypes\n",
    "type(spotify['streams'][0]) #it is a string\n",
    "#spotify['streams'] = spotify['streams'].apply(int) overflow error\n",
    "#invalid literal for int() with base 10: 'BPM110KeyAModeMajorDanceability53Valence75Energy69Acousticness7Instrumentalness0Liveness17Speechiness3' error row\n",
    "spotify = spotify[spotify.streams != 'BPM110KeyAModeMajorDanceability53Valence75Energy69Acousticness7Instrumentalness0Liveness17Speechiness3']\n",
    "spotify['streams'] = spotify['streams'].apply(int)\n",
    "type(spotify['streams'][10]) # int\n",
    "spotify.dtypes"
   ]
  },
  {
   "cell_type": "code",
   "execution_count": 6,
   "metadata": {},
   "outputs": [
    {
     "data": {
      "text/html": [
       "<div>\n",
       "<style scoped>\n",
       "    .dataframe tbody tr th:only-of-type {\n",
       "        vertical-align: middle;\n",
       "    }\n",
       "\n",
       "    .dataframe tbody tr th {\n",
       "        vertical-align: top;\n",
       "    }\n",
       "\n",
       "    .dataframe thead th {\n",
       "        text-align: right;\n",
       "    }\n",
       "</style>\n",
       "<table border=\"1\" class=\"dataframe\">\n",
       "  <thead>\n",
       "    <tr style=\"text-align: right;\">\n",
       "      <th></th>\n",
       "      <th>artist_count</th>\n",
       "      <th>released_year</th>\n",
       "      <th>released_month</th>\n",
       "      <th>released_day</th>\n",
       "      <th>in_spotify_playlists</th>\n",
       "      <th>in_spotify_charts</th>\n",
       "      <th>streams</th>\n",
       "      <th>in_apple_playlists</th>\n",
       "      <th>in_apple_charts</th>\n",
       "      <th>in_deezer_charts</th>\n",
       "      <th>bpm</th>\n",
       "      <th>danceability_%</th>\n",
       "      <th>valence_%</th>\n",
       "      <th>energy_%</th>\n",
       "      <th>acousticness_%</th>\n",
       "      <th>instrumentalness_%</th>\n",
       "      <th>liveness_%</th>\n",
       "      <th>speechiness_%</th>\n",
       "    </tr>\n",
       "  </thead>\n",
       "  <tbody>\n",
       "    <tr>\n",
       "      <th>count</th>\n",
       "      <td>952.000000</td>\n",
       "      <td>952.000000</td>\n",
       "      <td>952.000000</td>\n",
       "      <td>952.000000</td>\n",
       "      <td>952.000000</td>\n",
       "      <td>952.000000</td>\n",
       "      <td>9.520000e+02</td>\n",
       "      <td>952.000000</td>\n",
       "      <td>952.000000</td>\n",
       "      <td>952.000000</td>\n",
       "      <td>952.000000</td>\n",
       "      <td>952.000000</td>\n",
       "      <td>952.000000</td>\n",
       "      <td>952.000000</td>\n",
       "      <td>952.000000</td>\n",
       "      <td>952.000000</td>\n",
       "      <td>952.000000</td>\n",
       "      <td>952.000000</td>\n",
       "    </tr>\n",
       "    <tr>\n",
       "      <th>mean</th>\n",
       "      <td>1.556723</td>\n",
       "      <td>2018.288866</td>\n",
       "      <td>6.038866</td>\n",
       "      <td>13.944328</td>\n",
       "      <td>5202.565126</td>\n",
       "      <td>12.022059</td>\n",
       "      <td>5.141374e+08</td>\n",
       "      <td>67.866597</td>\n",
       "      <td>51.963235</td>\n",
       "      <td>2.669118</td>\n",
       "      <td>122.553571</td>\n",
       "      <td>66.984244</td>\n",
       "      <td>51.406513</td>\n",
       "      <td>64.274160</td>\n",
       "      <td>27.078782</td>\n",
       "      <td>1.582983</td>\n",
       "      <td>18.214286</td>\n",
       "      <td>10.138655</td>\n",
       "    </tr>\n",
       "    <tr>\n",
       "      <th>std</th>\n",
       "      <td>0.893331</td>\n",
       "      <td>11.011397</td>\n",
       "      <td>3.564571</td>\n",
       "      <td>9.197223</td>\n",
       "      <td>7901.400683</td>\n",
       "      <td>19.582405</td>\n",
       "      <td>5.668569e+08</td>\n",
       "      <td>86.470591</td>\n",
       "      <td>50.628850</td>\n",
       "      <td>6.038152</td>\n",
       "      <td>28.069601</td>\n",
       "      <td>14.631282</td>\n",
       "      <td>23.480526</td>\n",
       "      <td>16.558517</td>\n",
       "      <td>26.001599</td>\n",
       "      <td>8.414064</td>\n",
       "      <td>13.718374</td>\n",
       "      <td>9.915399</td>\n",
       "    </tr>\n",
       "    <tr>\n",
       "      <th>min</th>\n",
       "      <td>1.000000</td>\n",
       "      <td>1930.000000</td>\n",
       "      <td>1.000000</td>\n",
       "      <td>1.000000</td>\n",
       "      <td>31.000000</td>\n",
       "      <td>0.000000</td>\n",
       "      <td>2.762000e+03</td>\n",
       "      <td>0.000000</td>\n",
       "      <td>0.000000</td>\n",
       "      <td>0.000000</td>\n",
       "      <td>65.000000</td>\n",
       "      <td>23.000000</td>\n",
       "      <td>4.000000</td>\n",
       "      <td>9.000000</td>\n",
       "      <td>0.000000</td>\n",
       "      <td>0.000000</td>\n",
       "      <td>3.000000</td>\n",
       "      <td>2.000000</td>\n",
       "    </tr>\n",
       "    <tr>\n",
       "      <th>25%</th>\n",
       "      <td>1.000000</td>\n",
       "      <td>2020.000000</td>\n",
       "      <td>3.000000</td>\n",
       "      <td>6.000000</td>\n",
       "      <td>874.500000</td>\n",
       "      <td>0.000000</td>\n",
       "      <td>1.416362e+08</td>\n",
       "      <td>13.000000</td>\n",
       "      <td>7.000000</td>\n",
       "      <td>0.000000</td>\n",
       "      <td>99.750000</td>\n",
       "      <td>57.000000</td>\n",
       "      <td>32.000000</td>\n",
       "      <td>53.000000</td>\n",
       "      <td>6.000000</td>\n",
       "      <td>0.000000</td>\n",
       "      <td>10.000000</td>\n",
       "      <td>4.000000</td>\n",
       "    </tr>\n",
       "    <tr>\n",
       "      <th>50%</th>\n",
       "      <td>1.000000</td>\n",
       "      <td>2022.000000</td>\n",
       "      <td>6.000000</td>\n",
       "      <td>13.000000</td>\n",
       "      <td>2216.500000</td>\n",
       "      <td>3.000000</td>\n",
       "      <td>2.905309e+08</td>\n",
       "      <td>34.000000</td>\n",
       "      <td>38.500000</td>\n",
       "      <td>0.000000</td>\n",
       "      <td>121.000000</td>\n",
       "      <td>69.000000</td>\n",
       "      <td>51.000000</td>\n",
       "      <td>66.000000</td>\n",
       "      <td>18.000000</td>\n",
       "      <td>0.000000</td>\n",
       "      <td>12.000000</td>\n",
       "      <td>6.000000</td>\n",
       "    </tr>\n",
       "    <tr>\n",
       "      <th>75%</th>\n",
       "      <td>2.000000</td>\n",
       "      <td>2022.000000</td>\n",
       "      <td>9.000000</td>\n",
       "      <td>22.000000</td>\n",
       "      <td>5573.750000</td>\n",
       "      <td>16.000000</td>\n",
       "      <td>6.738690e+08</td>\n",
       "      <td>88.000000</td>\n",
       "      <td>87.000000</td>\n",
       "      <td>2.000000</td>\n",
       "      <td>140.250000</td>\n",
       "      <td>78.000000</td>\n",
       "      <td>70.000000</td>\n",
       "      <td>77.000000</td>\n",
       "      <td>43.000000</td>\n",
       "      <td>0.000000</td>\n",
       "      <td>24.000000</td>\n",
       "      <td>11.000000</td>\n",
       "    </tr>\n",
       "    <tr>\n",
       "      <th>max</th>\n",
       "      <td>8.000000</td>\n",
       "      <td>2023.000000</td>\n",
       "      <td>12.000000</td>\n",
       "      <td>31.000000</td>\n",
       "      <td>52898.000000</td>\n",
       "      <td>147.000000</td>\n",
       "      <td>3.703895e+09</td>\n",
       "      <td>672.000000</td>\n",
       "      <td>275.000000</td>\n",
       "      <td>58.000000</td>\n",
       "      <td>206.000000</td>\n",
       "      <td>96.000000</td>\n",
       "      <td>97.000000</td>\n",
       "      <td>97.000000</td>\n",
       "      <td>97.000000</td>\n",
       "      <td>91.000000</td>\n",
       "      <td>97.000000</td>\n",
       "      <td>64.000000</td>\n",
       "    </tr>\n",
       "  </tbody>\n",
       "</table>\n",
       "</div>"
      ],
      "text/plain": [
       "       artist_count  released_year  released_month  released_day  \\\n",
       "count    952.000000     952.000000      952.000000    952.000000   \n",
       "mean       1.556723    2018.288866        6.038866     13.944328   \n",
       "std        0.893331      11.011397        3.564571      9.197223   \n",
       "min        1.000000    1930.000000        1.000000      1.000000   \n",
       "25%        1.000000    2020.000000        3.000000      6.000000   \n",
       "50%        1.000000    2022.000000        6.000000     13.000000   \n",
       "75%        2.000000    2022.000000        9.000000     22.000000   \n",
       "max        8.000000    2023.000000       12.000000     31.000000   \n",
       "\n",
       "       in_spotify_playlists  in_spotify_charts       streams  \\\n",
       "count            952.000000         952.000000  9.520000e+02   \n",
       "mean            5202.565126          12.022059  5.141374e+08   \n",
       "std             7901.400683          19.582405  5.668569e+08   \n",
       "min               31.000000           0.000000  2.762000e+03   \n",
       "25%              874.500000           0.000000  1.416362e+08   \n",
       "50%             2216.500000           3.000000  2.905309e+08   \n",
       "75%             5573.750000          16.000000  6.738690e+08   \n",
       "max            52898.000000         147.000000  3.703895e+09   \n",
       "\n",
       "       in_apple_playlists  in_apple_charts  in_deezer_charts         bpm  \\\n",
       "count          952.000000       952.000000        952.000000  952.000000   \n",
       "mean            67.866597        51.963235          2.669118  122.553571   \n",
       "std             86.470591        50.628850          6.038152   28.069601   \n",
       "min              0.000000         0.000000          0.000000   65.000000   \n",
       "25%             13.000000         7.000000          0.000000   99.750000   \n",
       "50%             34.000000        38.500000          0.000000  121.000000   \n",
       "75%             88.000000        87.000000          2.000000  140.250000   \n",
       "max            672.000000       275.000000         58.000000  206.000000   \n",
       "\n",
       "       danceability_%   valence_%    energy_%  acousticness_%  \\\n",
       "count      952.000000  952.000000  952.000000      952.000000   \n",
       "mean        66.984244   51.406513   64.274160       27.078782   \n",
       "std         14.631282   23.480526   16.558517       26.001599   \n",
       "min         23.000000    4.000000    9.000000        0.000000   \n",
       "25%         57.000000   32.000000   53.000000        6.000000   \n",
       "50%         69.000000   51.000000   66.000000       18.000000   \n",
       "75%         78.000000   70.000000   77.000000       43.000000   \n",
       "max         96.000000   97.000000   97.000000       97.000000   \n",
       "\n",
       "       instrumentalness_%  liveness_%  speechiness_%  \n",
       "count          952.000000  952.000000     952.000000  \n",
       "mean             1.582983   18.214286      10.138655  \n",
       "std              8.414064   13.718374       9.915399  \n",
       "min              0.000000    3.000000       2.000000  \n",
       "25%              0.000000   10.000000       4.000000  \n",
       "50%              0.000000   12.000000       6.000000  \n",
       "75%              0.000000   24.000000      11.000000  \n",
       "max             91.000000   97.000000      64.000000  "
      ]
     },
     "execution_count": 6,
     "metadata": {},
     "output_type": "execute_result"
    }
   ],
   "source": [
    "spotify.describe()"
   ]
  },
  {
   "cell_type": "code",
   "execution_count": 7,
   "metadata": {},
   "outputs": [
    {
     "data": {
      "image/png": "[encoded data removed]",
      "text/plain": [
       "<Figure size 2000x600 with 1 Axes>"
      ]
     },
     "metadata": {},
     "output_type": "display_data"
    }
   ],
   "source": [
    "import matplotlib.pyplot as plt\n",
    "plt.figure(figsize = (20, 6))\n",
    "\n",
    "counts = spotify['mode'].value_counts()\n",
    "counts.plot(kind = 'pie', fontsize = 12, autopct = '%1.1f%%')\n",
    "plt.xlabel('Mode', weight = \"bold\", fontsize = 16, labelpad = 22)\n",
    "plt.axis('equal')\n",
    "plt.legend(labels = counts.index, loc = \"best\")\n",
    "plt.show()"
   ]
  },
  {
   "cell_type": "code",
   "execution_count": 8,
   "metadata": {},
   "outputs": [
    {
     "data": {
      "image/png": "[encoded data removed]",
      "text/plain": [
       "<Figure size 1600x600 with 1 Axes>"
      ]
     },
     "metadata": {},
     "output_type": "display_data"
    }
   ],
   "source": [
    "import seaborn as sns\n",
    "plt.figure(figsize = (16, 6))\n",
    "spotify[\"released_year\"].value_counts()[:10].sort_values(ascending = False).plot(kind = 'bar', color = sns.color_palette('inferno'), edgecolor = 'black')\n",
    "plt.xlabel('released_year', weight = \"bold\", color = \"#D71313\", fontsize = 14, labelpad = 20)\n",
    "plt.ylabel('\\nNumber of Occurrences', weight = \"bold\", color = \"#D71313\", fontsize = 14, labelpad = 20)\n",
    "plt.xticks(rotation = 0, ha = 'center', fontsize = 16)\n",
    "plt.tight_layout()\n",
    "plt.show()"
   ]
  },
  {
   "cell_type": "code",
   "execution_count": 9,
   "metadata": {},
   "outputs": [
    {
     "data": {
      "text/html": [
       "<div>\n",
       "<style scoped>\n",
       "    .dataframe tbody tr th:only-of-type {\n",
       "        vertical-align: middle;\n",
       "    }\n",
       "\n",
       "    .dataframe tbody tr th {\n",
       "        vertical-align: top;\n",
       "    }\n",
       "\n",
       "    .dataframe thead th {\n",
       "        text-align: right;\n",
       "    }\n",
       "</style>\n",
       "<table border=\"1\" class=\"dataframe\">\n",
       "  <thead>\n",
       "    <tr style=\"text-align: right;\">\n",
       "      <th></th>\n",
       "      <th>track_name</th>\n",
       "      <th>artist(s)_name</th>\n",
       "      <th>artist_count</th>\n",
       "      <th>released_year</th>\n",
       "      <th>released_month</th>\n",
       "      <th>released_day</th>\n",
       "      <th>in_spotify_playlists</th>\n",
       "      <th>in_spotify_charts</th>\n",
       "      <th>streams</th>\n",
       "      <th>in_apple_playlists</th>\n",
       "      <th>...</th>\n",
       "      <th>bpm</th>\n",
       "      <th>key</th>\n",
       "      <th>mode</th>\n",
       "      <th>danceability_%</th>\n",
       "      <th>valence_%</th>\n",
       "      <th>energy_%</th>\n",
       "      <th>acousticness_%</th>\n",
       "      <th>instrumentalness_%</th>\n",
       "      <th>liveness_%</th>\n",
       "      <th>speechiness_%</th>\n",
       "    </tr>\n",
       "  </thead>\n",
       "  <tbody>\n",
       "    <tr>\n",
       "      <th>55</th>\n",
       "      <td>Blinding Lights</td>\n",
       "      <td>The Weeknd</td>\n",
       "      <td>1</td>\n",
       "      <td>2019</td>\n",
       "      <td>11</td>\n",
       "      <td>29</td>\n",
       "      <td>43899</td>\n",
       "      <td>69</td>\n",
       "      <td>3703895074</td>\n",
       "      <td>672</td>\n",
       "      <td>...</td>\n",
       "      <td>171</td>\n",
       "      <td>C#</td>\n",
       "      <td>Major</td>\n",
       "      <td>50</td>\n",
       "      <td>38</td>\n",
       "      <td>80</td>\n",
       "      <td>0</td>\n",
       "      <td>0</td>\n",
       "      <td>9</td>\n",
       "      <td>7</td>\n",
       "    </tr>\n",
       "    <tr>\n",
       "      <th>179</th>\n",
       "      <td>Shape of You</td>\n",
       "      <td>Ed Sheeran</td>\n",
       "      <td>1</td>\n",
       "      <td>2017</td>\n",
       "      <td>1</td>\n",
       "      <td>6</td>\n",
       "      <td>32181</td>\n",
       "      <td>10</td>\n",
       "      <td>3562543890</td>\n",
       "      <td>33</td>\n",
       "      <td>...</td>\n",
       "      <td>96</td>\n",
       "      <td>C#</td>\n",
       "      <td>Minor</td>\n",
       "      <td>83</td>\n",
       "      <td>93</td>\n",
       "      <td>65</td>\n",
       "      <td>58</td>\n",
       "      <td>0</td>\n",
       "      <td>9</td>\n",
       "      <td>8</td>\n",
       "    </tr>\n",
       "    <tr>\n",
       "      <th>86</th>\n",
       "      <td>Someone You Loved</td>\n",
       "      <td>Lewis Capaldi</td>\n",
       "      <td>1</td>\n",
       "      <td>2018</td>\n",
       "      <td>11</td>\n",
       "      <td>8</td>\n",
       "      <td>17836</td>\n",
       "      <td>53</td>\n",
       "      <td>2887241814</td>\n",
       "      <td>440</td>\n",
       "      <td>...</td>\n",
       "      <td>110</td>\n",
       "      <td>C#</td>\n",
       "      <td>Major</td>\n",
       "      <td>50</td>\n",
       "      <td>45</td>\n",
       "      <td>41</td>\n",
       "      <td>75</td>\n",
       "      <td>0</td>\n",
       "      <td>11</td>\n",
       "      <td>3</td>\n",
       "    </tr>\n",
       "    <tr>\n",
       "      <th>620</th>\n",
       "      <td>Dance Monkey</td>\n",
       "      <td>Tones and I</td>\n",
       "      <td>1</td>\n",
       "      <td>2019</td>\n",
       "      <td>5</td>\n",
       "      <td>10</td>\n",
       "      <td>24529</td>\n",
       "      <td>0</td>\n",
       "      <td>2864791672</td>\n",
       "      <td>533</td>\n",
       "      <td>...</td>\n",
       "      <td>98</td>\n",
       "      <td>F#</td>\n",
       "      <td>Minor</td>\n",
       "      <td>82</td>\n",
       "      <td>54</td>\n",
       "      <td>59</td>\n",
       "      <td>69</td>\n",
       "      <td>0</td>\n",
       "      <td>18</td>\n",
       "      <td>10</td>\n",
       "    </tr>\n",
       "    <tr>\n",
       "      <th>41</th>\n",
       "      <td>Sunflower - Spider-Man: Into the Spider-Verse</td>\n",
       "      <td>Post Malone, Swae Lee</td>\n",
       "      <td>2</td>\n",
       "      <td>2018</td>\n",
       "      <td>10</td>\n",
       "      <td>9</td>\n",
       "      <td>24094</td>\n",
       "      <td>78</td>\n",
       "      <td>2808096550</td>\n",
       "      <td>372</td>\n",
       "      <td>...</td>\n",
       "      <td>90</td>\n",
       "      <td>D</td>\n",
       "      <td>Major</td>\n",
       "      <td>76</td>\n",
       "      <td>91</td>\n",
       "      <td>50</td>\n",
       "      <td>54</td>\n",
       "      <td>0</td>\n",
       "      <td>7</td>\n",
       "      <td>5</td>\n",
       "    </tr>\n",
       "  </tbody>\n",
       "</table>\n",
       "<p>5 rows × 24 columns</p>\n",
       "</div>"
      ],
      "text/plain": [
       "                                        track_name         artist(s)_name  \\\n",
       "55                                 Blinding Lights             The Weeknd   \n",
       "179                                   Shape of You             Ed Sheeran   \n",
       "86                               Someone You Loved          Lewis Capaldi   \n",
       "620                                   Dance Monkey            Tones and I   \n",
       "41   Sunflower - Spider-Man: Into the Spider-Verse  Post Malone, Swae Lee   \n",
       "\n",
       "     artist_count  released_year  released_month  released_day  \\\n",
       "55              1           2019              11            29   \n",
       "179             1           2017               1             6   \n",
       "86              1           2018              11             8   \n",
       "620             1           2019               5            10   \n",
       "41              2           2018              10             9   \n",
       "\n",
       "     in_spotify_playlists  in_spotify_charts     streams  in_apple_playlists  \\\n",
       "55                  43899                 69  3703895074                 672   \n",
       "179                 32181                 10  3562543890                  33   \n",
       "86                  17836                 53  2887241814                 440   \n",
       "620                 24529                  0  2864791672                 533   \n",
       "41                  24094                 78  2808096550                 372   \n",
       "\n",
       "     ...  bpm key   mode danceability_%  valence_% energy_% acousticness_%  \\\n",
       "55   ...  171  C#  Major             50         38       80              0   \n",
       "179  ...   96  C#  Minor             83         93       65             58   \n",
       "86   ...  110  C#  Major             50         45       41             75   \n",
       "620  ...   98  F#  Minor             82         54       59             69   \n",
       "41   ...   90   D  Major             76         91       50             54   \n",
       "\n",
       "     instrumentalness_%  liveness_%  speechiness_%  \n",
       "55                    0           9              7  \n",
       "179                   0           9              8  \n",
       "86                    0          11              3  \n",
       "620                   0          18             10  \n",
       "41                    0           7              5  \n",
       "\n",
       "[5 rows x 24 columns]"
      ]
     },
     "execution_count": 9,
     "metadata": {},
     "output_type": "execute_result"
    }
   ],
   "source": [
    "top5 = spotify.sort_values(by=['streams'], ascending=False).head(5) \n",
    "top5"
   ]
  },
  {
   "cell_type": "code",
   "execution_count": 11,
   "metadata": {},
   "outputs": [
    {
     "data": {
      "application/vnd.plotly.v1+json": {
       "config": {
        "plotlyServerURL": "https://plot.ly"
       },
       "data": [
        {
         "alignmentgroup": "True",
         "customdata": [
          [
           3703895074,
           2019
          ],
          [
           3562543890,
           2017
          ],
          [
           2887241814,
           2018
          ],
          [
           2864791672,
           2019
          ],
          [
           2808096550,
           2018
          ]
         ],
         "hovertemplate": "artist(s)_name=%{x}<br>in_spotify_playlists=%{y}<br>number of times the song was played=%{marker.color}<br>released_year=%{customdata[1]}<extra></extra>",
         "legendgroup": "",
         "marker": {
          "color": [
           3703895074,
           3562543890,
           2887241814,
           2864791672,
           2808096550
          ],
          "coloraxis": "coloraxis",
          "pattern": {
           "shape": ""
          }
         },
         "name": "",
         "offsetgroup": "",
         "orientation": "v",
         "showlegend": false,
         "textposition": "auto",
         "type": "bar",
         "x": [
          "The Weeknd",
          "Ed Sheeran",
          "Lewis Capaldi",
          "Tones and I",
          "Post Malone, Swae Lee"
         ],
         "xaxis": "x",
         "y": [
          43899,
          32181,
          17836,
          24529,
          24094
         ],
         "yaxis": "y"
        }
       ],
       "layout": {
        "barmode": "relative",
        "coloraxis": {
         "colorbar": {
          "title": {
           "text": "number of times the song was played"
          }
         },
         "colorscale": [
          [
           0,
           "#0d0887"
          ],
          [
           0.1111111111111111,
           "#46039f"
          ],
          [
           0.2222222222222222,
           "#7201a8"
          ],
          [
           0.3333333333333333,
           "#9c179e"
          ],
          [
           0.4444444444444444,
           "#bd3786"
          ],
          [
           0.5555555555555556,
           "#d8576b"
          ],
          [
           0.6666666666666666,
           "#ed7953"
          ],
          [
           0.7777777777777778,
           "#fb9f3a"
          ],
          [
           0.8888888888888888,
           "#fdca26"
          ],
          [
           1,
           "#f0f921"
          ]
         ]
        },
        "height": 400,
        "legend": {
         "tracegroupgap": 0
        },
        "margin": {
         "t": 60
        },
        "template": {
         "data": {
          "bar": [
           {
            "error_x": {
             "color": "#2a3f5f"
            },
            "error_y": {
             "color": "#2a3f5f"
            },
            "marker": {
             "line": {
              "color": "#E5ECF6",
              "width": 0.5
             },
             "pattern": {
              "fillmode": "overlay",
              "size": 10,
              "solidity": 0.2
             }
            },
            "type": "bar"
           }
          ],
          "barpolar": [
           {
            "marker": {
             "line": {
              "color": "#E5ECF6",
              "width": 0.5
             },
             "pattern": {
              "fillmode": "overlay",
              "size": 10,
              "solidity": 0.2
             }
            },
            "type": "barpolar"
           }
          ],
          "carpet": [
           {
            "aaxis": {
             "endlinecolor": "#2a3f5f",
             "gridcolor": "white",
             "linecolor": "white",
             "minorgridcolor": "white",
             "startlinecolor": "#2a3f5f"
            },
            "baxis": {
             "endlinecolor": "#2a3f5f",
             "gridcolor": "white",
             "linecolor": "white",
             "minorgridcolor": "white",
             "startlinecolor": "#2a3f5f"
            },
            "type": "carpet"
           }
          ],
          "choropleth": [
           {
            "colorbar": {
             "outlinewidth": 0,
             "ticks": ""
            },
            "type": "choropleth"
           }
          ],
          "contour": [
           {
            "colorbar": {
             "outlinewidth": 0,
             "ticks": ""
            },
            "colorscale": [
             [
              0,
              "#0d0887"
             ],
             [
              0.1111111111111111,
              "#46039f"
             ],
             [
              0.2222222222222222,
              "#7201a8"
             ],
             [
              0.3333333333333333,
              "#9c179e"
             ],
             [
              0.4444444444444444,
              "#bd3786"
             ],
             [
              0.5555555555555556,
              "#d8576b"
             ],
             [
              0.6666666666666666,
              "#ed7953"
             ],
             [
              0.7777777777777778,
              "#fb9f3a"
             ],
             [
              0.8888888888888888,
              "#fdca26"
             ],
             [
              1,
              "#f0f921"
             ]
            ],
            "type": "contour"
           }
          ],
          "contourcarpet": [
           {
            "colorbar": {
             "outlinewidth": 0,
             "ticks": ""
            },
            "type": "contourcarpet"
           }
          ],
          "heatmap": [
           {
            "colorbar": {
             "outlinewidth": 0,
             "ticks": ""
            },
            "colorscale": [
             [
              0,
              "#0d0887"
             ],
             [
              0.1111111111111111,
              "#46039f"
             ],
             [
              0.2222222222222222,
              "#7201a8"
             ],
             [
              0.3333333333333333,
              "#9c179e"
             ],
             [
              0.4444444444444444,
              "#bd3786"
             ],
             [
              0.5555555555555556,
              "#d8576b"
             ],
             [
              0.6666666666666666,
              "#ed7953"
             ],
             [
              0.7777777777777778,
              "#fb9f3a"
             ],
             [
              0.8888888888888888,
              "#fdca26"
             ],
             [
              1,
              "#f0f921"
             ]
            ],
            "type": "heatmap"
           }
          ],
          "heatmapgl": [
           {
            "colorbar": {
             "outlinewidth": 0,
             "ticks": ""
            },
            "colorscale": [
             [
              0,
              "#0d0887"
             ],
             [
              0.1111111111111111,
              "#46039f"
             ],
             [
              0.2222222222222222,
              "#7201a8"
             ],
             [
              0.3333333333333333,
              "#9c179e"
             ],
             [
              0.4444444444444444,
              "#bd3786"
             ],
             [
              0.5555555555555556,
              "#d8576b"
             ],
             [
              0.6666666666666666,
              "#ed7953"
             ],
             [
              0.7777777777777778,
              "#fb9f3a"
             ],
             [
              0.8888888888888888,
              "#fdca26"
             ],
             [
              1,
              "#f0f921"
             ]
            ],
            "type": "heatmapgl"
           }
          ],
          "histogram": [
           {
            "marker": {
             "pattern": {
              "fillmode": "overlay",
              "size": 10,
              "solidity": 0.2
             }
            },
            "type": "histogram"
           }
          ],
          "histogram2d": [
           {
            "colorbar": {
             "outlinewidth": 0,
             "ticks": ""
            },
            "colorscale": [
             [
              0,
              "#0d0887"
             ],
             [
              0.1111111111111111,
              "#46039f"
             ],
             [
              0.2222222222222222,
              "#7201a8"
             ],
             [
              0.3333333333333333,
              "#9c179e"
             ],
             [
              0.4444444444444444,
              "#bd3786"
             ],
             [
              0.5555555555555556,
              "#d8576b"
             ],
             [
              0.6666666666666666,
              "#ed7953"
             ],
             [
              0.7777777777777778,
              "#fb9f3a"
             ],
             [
              0.8888888888888888,
              "#fdca26"
             ],
             [
              1,
              "#f0f921"
             ]
            ],
            "type": "histogram2d"
           }
          ],
          "histogram2dcontour": [
           {
            "colorbar": {
             "outlinewidth": 0,
             "ticks": ""
            },
            "colorscale": [
             [
              0,
              "#0d0887"
             ],
             [
              0.1111111111111111,
              "#46039f"
             ],
             [
              0.2222222222222222,
              "#7201a8"
             ],
             [
              0.3333333333333333,
              "#9c179e"
             ],
             [
              0.4444444444444444,
              "#bd3786"
             ],
             [
              0.5555555555555556,
              "#d8576b"
             ],
             [
              0.6666666666666666,
              "#ed7953"
             ],
             [
              0.7777777777777778,
              "#fb9f3a"
             ],
             [
              0.8888888888888888,
              "#fdca26"
             ],
             [
              1,
              "#f0f921"
             ]
            ],
            "type": "histogram2dcontour"
           }
          ],
          "mesh3d": [
           {
            "colorbar": {
             "outlinewidth": 0,
             "ticks": ""
            },
            "type": "mesh3d"
           }
          ],
          "parcoords": [
           {
            "line": {
             "colorbar": {
              "outlinewidth": 0,
              "ticks": ""
             }
            },
            "type": "parcoords"
           }
          ],
          "pie": [
           {
            "automargin": true,
            "type": "pie"
           }
          ],
          "scatter": [
           {
            "fillpattern": {
             "fillmode": "overlay",
             "size": 10,
             "solidity": 0.2
            },
            "type": "scatter"
           }
          ],
          "scatter3d": [
           {
            "line": {
             "colorbar": {
              "outlinewidth": 0,
              "ticks": ""
             }
            },
            "marker": {
             "colorbar": {
              "outlinewidth": 0,
              "ticks": ""
             }
            },
            "type": "scatter3d"
           }
          ],
          "scattercarpet": [
           {
            "marker": {
             "colorbar": {
              "outlinewidth": 0,
              "ticks": ""
             }
            },
            "type": "scattercarpet"
           }
          ],
          "scattergeo": [
           {
            "marker": {
             "colorbar": {
              "outlinewidth": 0,
              "ticks": ""
             }
            },
            "type": "scattergeo"
           }
          ],
          "scattergl": [
           {
            "marker": {
             "colorbar": {
              "outlinewidth": 0,
              "ticks": ""
             }
            },
            "type": "scattergl"
           }
          ],
          "scattermapbox": [
           {
            "marker": {
             "colorbar": {
              "outlinewidth": 0,
              "ticks": ""
             }
            },
            "type": "scattermapbox"
           }
          ],
          "scatterpolar": [
           {
            "marker": {
             "colorbar": {
              "outlinewidth": 0,
              "ticks": ""
             }
            },
            "type": "scatterpolar"
           }
          ],
          "scatterpolargl": [
           {
            "marker": {
             "colorbar": {
              "outlinewidth": 0,
              "ticks": ""
             }
            },
            "type": "scatterpolargl"
           }
          ],
          "scatterternary": [
           {
            "marker": {
             "colorbar": {
              "outlinewidth": 0,
              "ticks": ""
             }
            },
            "type": "scatterternary"
           }
          ],
          "surface": [
           {
            "colorbar": {
             "outlinewidth": 0,
             "ticks": ""
            },
            "colorscale": [
             [
              0,
              "#0d0887"
             ],
             [
              0.1111111111111111,
              "#46039f"
             ],
             [
              0.2222222222222222,
              "#7201a8"
             ],
             [
              0.3333333333333333,
              "#9c179e"
             ],
             [
              0.4444444444444444,
              "#bd3786"
             ],
             [
              0.5555555555555556,
              "#d8576b"
             ],
             [
              0.6666666666666666,
              "#ed7953"
             ],
             [
              0.7777777777777778,
              "#fb9f3a"
             ],
             [
              0.8888888888888888,
              "#fdca26"
             ],
             [
              1,
              "#f0f921"
             ]
            ],
            "type": "surface"
           }
          ],
          "table": [
           {
            "cells": {
             "fill": {
              "color": "#EBF0F8"
             },
             "line": {
              "color": "white"
             }
            },
            "header": {
             "fill": {
              "color": "#C8D4E3"
             },
             "line": {
              "color": "white"
             }
            },
            "type": "table"
           }
          ]
         },
         "layout": {
          "annotationdefaults": {
           "arrowcolor": "#2a3f5f",
           "arrowhead": 0,
           "arrowwidth": 1
          },
          "autotypenumbers": "strict",
          "coloraxis": {
           "colorbar": {
            "outlinewidth": 0,
            "ticks": ""
           }
          },
          "colorscale": {
           "diverging": [
            [
             0,
             "#8e0152"
            ],
            [
             0.1,
             "#c51b7d"
            ],
            [
             0.2,
             "#de77ae"
            ],
            [
             0.3,
             "#f1b6da"
            ],
            [
             0.4,
             "#fde0ef"
            ],
            [
             0.5,
             "#f7f7f7"
            ],
            [
             0.6,
             "#e6f5d0"
            ],
            [
             0.7,
             "#b8e186"
            ],
            [
             0.8,
             "#7fbc41"
            ],
            [
             0.9,
             "#4d9221"
            ],
            [
             1,
             "#276419"
            ]
           ],
           "sequential": [
            [
             0,
             "#0d0887"
            ],
            [
             0.1111111111111111,
             "#46039f"
            ],
            [
             0.2222222222222222,
             "#7201a8"
            ],
            [
             0.3333333333333333,
             "#9c179e"
            ],
            [
             0.4444444444444444,
             "#bd3786"
            ],
            [
             0.5555555555555556,
             "#d8576b"
            ],
            [
             0.6666666666666666,
             "#ed7953"
            ],
            [
             0.7777777777777778,
             "#fb9f3a"
            ],
            [
             0.8888888888888888,
             "#fdca26"
            ],
            [
             1,
             "#f0f921"
            ]
           ],
           "sequentialminus": [
            [
             0,
             "#0d0887"
            ],
            [
             0.1111111111111111,
             "#46039f"
            ],
            [
             0.2222222222222222,
             "#7201a8"
            ],
            [
             0.3333333333333333,
             "#9c179e"
            ],
            [
             0.4444444444444444,
             "#bd3786"
            ],
            [
             0.5555555555555556,
             "#d8576b"
            ],
            [
             0.6666666666666666,
             "#ed7953"
            ],
            [
             0.7777777777777778,
             "#fb9f3a"
            ],
            [
             0.8888888888888888,
             "#fdca26"
            ],
            [
             1,
             "#f0f921"
            ]
           ]
          },
          "colorway": [
           "#636efa",
           "#EF553B",
           "#00cc96",
           "#ab63fa",
           "#FFA15A",
           "#19d3f3",
           "#FF6692",
           "#B6E880",
           "#FF97FF",
           "#FECB52"
          ],
          "font": {
           "color": "#2a3f5f"
          },
          "geo": {
           "bgcolor": "white",
           "lakecolor": "white",
           "landcolor": "#E5ECF6",
           "showlakes": true,
           "showland": true,
           "subunitcolor": "white"
          },
          "hoverlabel": {
           "align": "left"
          },
          "hovermode": "closest",
          "mapbox": {
           "style": "light"
          },
          "paper_bgcolor": "white",
          "plot_bgcolor": "#E5ECF6",
          "polar": {
           "angularaxis": {
            "gridcolor": "white",
            "linecolor": "white",
            "ticks": ""
           },
           "bgcolor": "#E5ECF6",
           "radialaxis": {
            "gridcolor": "white",
            "linecolor": "white",
            "ticks": ""
           }
          },
          "scene": {
           "xaxis": {
            "backgroundcolor": "#E5ECF6",
            "gridcolor": "white",
            "gridwidth": 2,
            "linecolor": "white",
            "showbackground": true,
            "ticks": "",
            "zerolinecolor": "white"
           },
           "yaxis": {
            "backgroundcolor": "#E5ECF6",
            "gridcolor": "white",
            "gridwidth": 2,
            "linecolor": "white",
            "showbackground": true,
            "ticks": "",
            "zerolinecolor": "white"
           },
           "zaxis": {
            "backgroundcolor": "#E5ECF6",
            "gridcolor": "white",
            "gridwidth": 2,
            "linecolor": "white",
            "showbackground": true,
            "ticks": "",
            "zerolinecolor": "white"
           }
          },
          "shapedefaults": {
           "line": {
            "color": "#2a3f5f"
           }
          },
          "ternary": {
           "aaxis": {
            "gridcolor": "white",
            "linecolor": "white",
            "ticks": ""
           },
           "baxis": {
            "gridcolor": "white",
            "linecolor": "white",
            "ticks": ""
           },
           "bgcolor": "#E5ECF6",
           "caxis": {
            "gridcolor": "white",
            "linecolor": "white",
            "ticks": ""
           }
          },
          "title": {
           "x": 0.05
          },
          "xaxis": {
           "automargin": true,
           "gridcolor": "white",
           "linecolor": "white",
           "ticks": "",
           "title": {
            "standoff": 15
           },
           "zerolinecolor": "white",
           "zerolinewidth": 2
          },
          "yaxis": {
           "automargin": true,
           "gridcolor": "white",
           "linecolor": "white",
           "ticks": "",
           "title": {
            "standoff": 15
           },
           "zerolinecolor": "white",
           "zerolinewidth": 2
          }
         }
        },
        "xaxis": {
         "anchor": "y",
         "domain": [
          0,
          1
         ],
         "title": {
          "text": "artist(s)_name"
         }
        },
        "yaxis": {
         "anchor": "x",
         "domain": [
          0,
          1
         ],
         "title": {
          "text": "in_spotify_playlists"
         }
        }
       }
      }
     },
     "metadata": {},
     "output_type": "display_data"
    }
   ],
   "source": [
    "import plotly.express as px\n",
    "fig = px.bar(top5, x='artist(s)_name', y='in_spotify_playlists',\n",
    "             hover_data=['streams', 'released_year'], color = 'streams',\n",
    "             labels={'streams':'number of times the song was played'}, height=400)\n",
    "fig.show()"
   ]
  },
  {
   "cell_type": "code",
   "execution_count": 12,
   "metadata": {},
   "outputs": [
    {
     "data": {
      "application/vnd.plotly.v1+json": {
       "config": {
        "plotlyServerURL": "https://plot.ly"
       },
       "data": [
        {
         "hovertemplate": "mode=Major<br>danceability_%=%{x}<br>bpm=%{y}<br>streams=%{z}<extra></extra>",
         "legendgroup": "Major",
         "marker": {
          "color": "#636efa",
          "symbol": "circle"
         },
         "mode": "markers",
         "name": "Major",
         "scene": "scene",
         "showlegend": true,
         "type": "scatter3d",
         "x": [
          80,
          71,
          51,
          55,
          92,
          67,
          71,
          64,
          44,
          86,
          63,
          69,
          85,
          80,
          52,
          56,
          64,
          81,
          61,
          75,
          60,
          76,
          56,
          77,
          67,
          71,
          68,
          60,
          50,
          86,
          70,
          88,
          43,
          64,
          56,
          51,
          76,
          61,
          62,
          58,
          71,
          68,
          48,
          34,
          63,
          50,
          59,
          50,
          82,
          63,
          71,
          68,
          83,
          56,
          62,
          43,
          50,
          54,
          80,
          61,
          51,
          77,
          65,
          64,
          51,
          64,
          74,
          49,
          81,
          87,
          63,
          55,
          78,
          42,
          52,
          63,
          60,
          56,
          92,
          79,
          45,
          60,
          78,
          47,
          69,
          73,
          50,
          54,
          61,
          86,
          77,
          45,
          68,
          82,
          45,
          73,
          60,
          55,
          33,
          57,
          71,
          65,
          70,
          56,
          67,
          70,
          53,
          34,
          37,
          54,
          70,
          63,
          54,
          63,
          74,
          75,
          56,
          67,
          85,
          78,
          82,
          70,
          78,
          54,
          71,
          62,
          66,
          95,
          80,
          76,
          59,
          63,
          69,
          78,
          79,
          82,
          78,
          73,
          92,
          59,
          91,
          49,
          47,
          34,
          60,
          83,
          67,
          44,
          70,
          52,
          44,
          51,
          77,
          74,
          93,
          77,
          72,
          87,
          90,
          57,
          79,
          70,
          92,
          84,
          59,
          32,
          82,
          89,
          45,
          62,
          77,
          70,
          82,
          71,
          70,
          73,
          71,
          74,
          65,
          59,
          72,
          64,
          90,
          73,
          71,
          63,
          58,
          60,
          40,
          77,
          50,
          64,
          61,
          56,
          57,
          56,
          68,
          59,
          73,
          50,
          70,
          58,
          36,
          86,
          49,
          53,
          81,
          74,
          88,
          53,
          65,
          75,
          73,
          53,
          58,
          53,
          70,
          64,
          66,
          79,
          25,
          92,
          81,
          82,
          71,
          70,
          68,
          47,
          80,
          46,
          58,
          64,
          87,
          87,
          40,
          47,
          91,
          90,
          64,
          95,
          58,
          70,
          69,
          58,
          74,
          34,
          70,
          74,
          35,
          46,
          24,
          45,
          72,
          51,
          50,
          65,
          53,
          65,
          33,
          67,
          36,
          75,
          60,
          62,
          60,
          60,
          67,
          23,
          51,
          34,
          43,
          53,
          72,
          59,
          73,
          67,
          49,
          80,
          70,
          47,
          79,
          66,
          64,
          70,
          63,
          45,
          83,
          51,
          61,
          70,
          70,
          60,
          76,
          53,
          41,
          77,
          75,
          66,
          65,
          68,
          75,
          31,
          29,
          59,
          63,
          77,
          53,
          65,
          40,
          57,
          83,
          73,
          58,
          63,
          77,
          44,
          63,
          70,
          79,
          83,
          44,
          74,
          66,
          67,
          66,
          59,
          59,
          42,
          35,
          77,
          59,
          68,
          83,
          72,
          86,
          63,
          39,
          80,
          45,
          79,
          73,
          76,
          40,
          67,
          73,
          75,
          81,
          61,
          74,
          60,
          45,
          76,
          63,
          64,
          53,
          75,
          73,
          89,
          42,
          52,
          67,
          52,
          41,
          71,
          35,
          75,
          57,
          72,
          70,
          82,
          79,
          55,
          77,
          69,
          85,
          81,
          53,
          69,
          52,
          60,
          37,
          31,
          57,
          60,
          77,
          93,
          76,
          67,
          86,
          89,
          65,
          47,
          78,
          31,
          44,
          92,
          68,
          74,
          44,
          81,
          76,
          95,
          64,
          81,
          55,
          72,
          59,
          77,
          42,
          53,
          69,
          75,
          86,
          91,
          58,
          45,
          81,
          60,
          68,
          56,
          79,
          70,
          86,
          71,
          57,
          89,
          58,
          86,
          78,
          86,
          68,
          61,
          61,
          56,
          52,
          87,
          50,
          71,
          78,
          82,
          65,
          61,
          84,
          78,
          80,
          81,
          63,
          61,
          83,
          73,
          91,
          36,
          44,
          64,
          83,
          38,
          43,
          88,
          61,
          68,
          77,
          71,
          87,
          86,
          54,
          47,
          53,
          58,
          47,
          37,
          70,
          56,
          72,
          72,
          51,
          63,
          69,
          88,
          56,
          58,
          73,
          56,
          65,
          85,
          72,
          81,
          57,
          51,
          83,
          56,
          52,
          42,
          49,
          91,
          73,
          80,
          78,
          45,
          56,
          88,
          95,
          85,
          58,
          63,
          77,
          70,
          61,
          47,
          90,
          56,
          81,
          77,
          70,
          82,
          77,
          67,
          68,
          37,
          74,
          90,
          34,
          56,
          37,
          81,
          78,
          52,
          84,
          66,
          57,
          72,
          57,
          92,
          80,
          75,
          84,
          66,
          73,
          48,
          77,
          34,
          48,
          93,
          54,
          64,
          57,
          60,
          42,
          80,
          82
         ],
         "y": [
          125,
          92,
          138,
          170,
          141,
          100,
          118,
          89,
          78,
          100,
          120,
          123,
          99,
          107,
          204,
          168,
          97,
          120,
          150,
          96,
          95,
          90,
          79,
          144,
          122,
          140,
          186,
          128,
          171,
          130,
          133,
          101,
          173,
          90,
          140,
          82,
          81,
          124,
          128,
          132,
          131,
          98,
          102,
          101,
          130,
          142,
          170,
          110,
          116,
          129,
          98,
          150,
          143,
          143,
          93,
          206,
          170,
          158,
          116,
          117,
          130,
          116,
          121,
          112,
          90,
          143,
          139,
          162,
          92,
          95,
          146,
          95,
          128,
          150,
          140,
          140,
          95,
          132,
          112,
          97,
          172,
          120,
          122,
          130,
          160,
          144,
          192,
          163,
          154,
          96,
          104,
          164,
          118,
          117,
          174,
          128,
          145,
          85,
          180,
          166,
          160,
          160,
          92,
          170,
          120,
          98,
          92,
          150,
          94,
          160,
          120,
          109,
          157,
          130,
          116,
          144,
          100,
          106,
          132,
          120,
          155,
          129,
          107,
          96,
          123,
          90,
          149,
          105,
          105,
          134,
          81,
          154,
          169,
          115,
          93,
          91,
          126,
          97,
          101,
          154,
          120,
          150,
          174,
          202,
          142,
          143,
          108,
          170,
          85,
          80,
          98,
          148,
          120,
          144,
          96,
          137,
          96,
          111,
          148,
          182,
          141,
          134,
          130,
          145,
          173,
          114,
          110,
          94,
          134,
          120,
          131,
          171,
          94,
          78,
          120,
          106,
          115,
          130,
          118,
          110,
          100,
          140,
          116,
          120,
          120,
          80,
          76,
          172,
          99,
          95,
          110,
          95,
          142,
          104,
          92,
          120,
          144,
          94,
          94,
          148,
          98,
          140,
          100,
          140,
          142,
          140,
          135,
          101,
          122,
          83,
          158,
          176,
          98,
          148,
          105,
          125,
          115,
          122,
          133,
          100,
          177,
          135,
          107,
          105,
          115,
          174,
          82,
          92,
          90,
          83,
          140,
          154,
          107,
          87,
          82,
          148,
          140,
          101,
          180,
          133,
          102,
          82,
          120,
          94,
          110,
          150,
          140,
          119,
          93,
          133,
          202,
          134,
          105,
          160,
          148,
          151,
          92,
          152,
          147,
          140,
          139,
          95,
          115,
          125,
          76,
          143,
          78,
          96,
          180,
          126,
          150,
          90,
          160,
          114,
          113,
          147,
          155,
          112,
          166,
          81,
          150,
          110,
          108,
          164,
          93,
          128,
          97,
          175,
          116,
          122,
          122,
          109,
          130,
          143,
          135,
          111,
          110,
          130,
          180,
          97,
          116,
          65,
          176,
          144,
          93,
          122,
          88,
          170,
          78,
          94,
          73,
          176,
          120,
          82,
          95,
          118,
          90,
          80,
          110,
          129,
          181,
          144,
          101,
          84,
          154,
          148,
          141,
          94,
          180,
          122,
          85,
          148,
          120,
          120,
          106,
          110,
          169,
          118,
          112,
          140,
          105,
          178,
          173,
          101,
          144,
          133,
          120,
          129,
          102,
          120,
          81,
          105,
          79,
          124,
          126,
          121,
          77,
          102,
          120,
          117,
          168,
          94,
          145,
          134,
          148,
          90,
          96,
          120,
          125,
          123,
          81,
          171,
          91,
          125,
          92,
          93,
          134,
          184,
          123,
          115,
          141,
          160,
          145,
          160,
          92,
          134,
          80,
          120,
          92,
          140,
          89,
          82,
          79,
          88,
          139,
          117,
          99,
          93,
          106,
          124,
          95,
          124,
          72,
          95,
          189,
          85,
          140,
          81,
          129,
          124,
          138,
          95,
          129,
          107,
          174,
          92,
          90,
          147,
          143,
          145,
          82,
          166,
          92,
          108,
          110,
          88,
          120,
          122,
          98,
          124,
          118,
          108,
          100,
          78,
          87,
          142,
          125,
          85,
          134,
          130,
          108,
          123,
          152,
          108,
          110,
          105,
          118,
          176,
          158,
          174,
          130,
          78,
          104,
          121,
          105,
          81,
          78,
          125,
          96,
          174,
          127,
          96,
          100,
          104,
          154,
          80,
          150,
          92,
          144,
          150,
          138,
          172,
          77,
          107,
          114,
          117,
          146,
          120,
          142,
          139,
          151,
          118,
          183,
          122,
          165,
          77,
          91,
          148,
          92,
          118,
          89,
          118,
          130,
          110,
          102,
          97,
          97,
          125,
          170,
          157,
          130,
          90,
          128,
          126,
          120,
          122,
          103,
          130,
          120,
          145,
          126,
          136,
          113,
          132,
          135,
          126,
          125,
          149,
          137,
          100,
          79,
          146,
          103,
          92,
          93,
          130,
          102,
          145,
          130,
          156,
          123,
          132,
          138,
          109,
          158,
          126,
          104,
          110,
          130,
          177,
          158,
          144,
          125,
          120,
          96,
          144,
          166,
          92,
          97
         ],
         "z": [
          141381703,
          133716286,
          140003974,
          800840817,
          183706234,
          58149378,
          1316855716,
          1163093654,
          30546883,
          335222234,
          363369738,
          52135248,
          115364561,
          899183384,
          429829812,
          52294266,
          999748277,
          123122413,
          188933502,
          1355959075,
          786181836,
          2808096550,
          1047101291,
          65156199,
          570515054,
          1085685420,
          2565529693,
          177740666,
          3703895074,
          111947664,
          156338624,
          720434240,
          1755214421,
          404562836,
          14780425,
          39578178,
          2557975762,
          2282771485,
          1356565093,
          635412045,
          1230675890,
          43857627,
          2009094673,
          600976848,
          39709092,
          39228929,
          2665343922,
          2887241814,
          165484133,
          58054811,
          157058870,
          250305248,
          144565150,
          399686758,
          118482347,
          882831184,
          172825906,
          77309611,
          1605224506,
          1116995633,
          179659294,
          39058561,
          36912123,
          1205951614,
          607123776,
          211050784,
          342897938,
          2762,
          330346424,
          601863821,
          1953533826,
          2322580122,
          66902503,
          284819874,
          1217120710,
          109276132,
          2559529074,
          681583126,
          1687664027,
          11599388,
          1089402494,
          411747614,
          95053634,
          1279434863,
          233801632,
          1481349984,
          142095275,
          618885532,
          1167330737,
          657723613,
          2713922350,
          621660989,
          1591223784,
          1593270737,
          1410088830,
          1235005533,
          1661187319,
          1788326445,
          1840364617,
          143573775,
          684675814,
          1113838873,
          1267333350,
          726307468,
          1131090940,
          307370144,
          1271293243,
          265882712,
          841749534,
          806397070,
          2132335812,
          1641426668,
          367316268,
          350381515,
          1145727611,
          123124076,
          64533040,
          68616963,
          161460990,
          70106975,
          113509496,
          89933133,
          195576623,
          532336353,
          538115192,
          46142772,
          288101651,
          335074782,
          76767396,
          46065667,
          39666245,
          138517666,
          822633917,
          595900742,
          57945987,
          115010040,
          57089066,
          488386797,
          32761689,
          153454328,
          217672943,
          457184829,
          939844851,
          726434358,
          1406111294,
          24975653,
          145458418,
          988515741,
          118810253,
          206399629,
          117747907,
          293186992,
          139681964,
          103762518,
          162887075,
          91221625,
          185240616,
          885093467,
          104992946,
          147290338,
          1302184087,
          137123880,
          782369383,
          502574952,
          404887295,
          705469769,
          482175240,
          304118600,
          1449799467,
          173627354,
          652704649,
          1829992958,
          146409671,
          80758350,
          325592432,
          52722996,
          743693613,
          267789608,
          1221813483,
          449701773,
          67070410,
          433356509,
          165584767,
          367814306,
          448843705,
          1357608774,
          972164968,
          920045682,
          2420461338,
          223582566,
          1361425037,
          149778242,
          148469433,
          95623148,
          144584800,
          166570053,
          83021468,
          139836056,
          303216294,
          58890931,
          81419389,
          156777415,
          284908316,
          93438910,
          56533272,
          203221468,
          134294498,
          609293408,
          671365962,
          93587665,
          263453310,
          1435127549,
          236857112,
          34450974,
          1061966512,
          32526947,
          103787664,
          134255790,
          156338624,
          152850295,
          297328960,
          122763672,
          445763624,
          1365184,
          323358833,
          606361689,
          1606986953,
          1301799902,
          551305895,
          556585270,
          646886885,
          222612678,
          304079786,
          174006928,
          284785823,
          246390068,
          482257456,
          168684524,
          1260594497,
          428685680,
          210038833,
          227918678,
          348647203,
          366599607,
          1479264469,
          1449779435,
          769213520,
          741301563,
          807561936,
          834129063,
          663832097,
          446390129,
          690104769,
          485285717,
          520034544,
          476244795,
          404664135,
          98709329,
          460492795,
          395591396,
          389771964,
          403939487,
          481697415,
          110073250,
          88092256,
          473248298,
          155653938,
          395591396,
          429504768,
          242767149,
          65362788,
          67540165,
          62019074,
          135723538,
          295998468,
          261116938,
          135611421,
          110649992,
          301869854,
          57144458,
          56870689,
          323437194,
          317726339,
          328207708,
          180577478,
          49262961,
          614555082,
          178660459,
          51641685,
          1007612429,
          326792833,
          349585590,
          1309887447,
          200660871,
          88103848,
          1575467011,
          91656026,
          1042568408,
          267758538,
          539595276,
          578207856,
          1056760045,
          1230855859,
          1858144199,
          583687007,
          63803529,
          466214729,
          225259194,
          287201015,
          599770206,
          342779426,
          673801126,
          540539717,
          383550148,
          530511203,
          37307967,
          1445941661,
          501541661,
          1143647827,
          672656250,
          1256880657,
          245095641,
          686734357,
          261414174,
          610045621,
          1115880852,
          184937148,
          167076418,
          824420218,
          363467642,
          1127468248,
          60680939,
          247737946,
          154797871,
          198883004,
          124407432,
          850608354,
          376333030,
          1608045237,
          506778838,
          1472799873,
          513643924,
          783706581,
          422691058,
          1252563873,
          851070493,
          345903614,
          951637566,
          956865266,
          777765388,
          412795151,
          355219175,
          290228626,
          1180094974,
          1456081449,
          432702334,
          1223481149,
          720825549,
          2086124197,
          1690192927,
          593917618,
          200972675,
          71014967,
          560222750,
          1806617704,
          865640097,
          2159346687,
          651732901,
          608334048,
          863756573,
          797402345,
          1695712020,
          1759567999,
          226897599,
          596152090,
          1210599487,
          146789379,
          500340342,
          135079152,
          240769997,
          426204830,
          421135627,
          554875730,
          185408548,
          579395142,
          675039469,
          231996128,
          498960285,
          685071800,
          64714573,
          50746620,
          370068639,
          2280566092,
          563902868,
          317622165,
          64787943,
          1439191367,
          759208783,
          368646862,
          299634472,
          756907987,
          229473310,
          202677468,
          527033089,
          299648208,
          182978249,
          319757142,
          109091573,
          346127840,
          1970673297,
          263779030,
          2591224264,
          1457139296,
          694525298,
          240661097,
          421365166,
          349746291,
          255120451,
          190981339,
          408843328,
          178512385,
          101780047,
          118381354,
          146363130,
          1023187129,
          106933107,
          212234990,
          1714490998,
          197643795,
          499710590,
          53909146,
          2236667932,
          2123309722,
          461558540,
          156898322,
          313113297,
          271666301,
          305650299,
          126191104,
          338422004,
          68895644,
          86176890,
          403231558,
          319546754,
          307752576,
          279737940,
          212351890,
          1304313953,
          150500965,
          58687425,
          212109195,
          382199619,
          41210087,
          231657891,
          53729194,
          244741137,
          37778188,
          254218729,
          164163229,
          184622518,
          300983101,
          121077868,
          136996305,
          229497852,
          185550869,
          54682594,
          240580042,
          244891912,
          132171975,
          184706613,
          184826429,
          302006641,
          330881149,
          334733572,
          366214458,
          114546317,
          290833204,
          136676504,
          273194684,
          311482393,
          195918494,
          233671263,
          199587884,
          383835984,
          236060709,
          160845341,
          588955257,
          238350348,
          138334433,
          445590495,
          1122364376,
          137070925,
          184807630,
          279717388,
          221752937,
          213505179,
          155795783,
          1553497987,
          711366595,
          85924992,
          176103902,
          121189256,
          244790012,
          331511413,
          219196651,
          273914335,
          185236961,
          387080183,
          244928911,
          97610446,
          123473120,
          295152154,
          323455692,
          240918092,
          191873381,
          284216603,
          265548837,
          703301727,
          244585109,
          277132266,
          202452860,
          1608164312,
          624101957,
          47093942,
          53987404,
          225093344,
          159240673,
          154356956,
          723043854,
          247689123,
          176474912,
          235549288,
          146223492,
          223064273,
          170413877,
          218320587,
          141720999,
          187339835,
          198365537,
          186104310,
          177503916,
          112436403,
          203436468,
          106249219,
          181382590,
          91473363,
          121871870,
          73513683,
          133895612
         ]
        },
        {
         "hovertemplate": "mode=Minor<br>danceability_%=%{x}<br>bpm=%{y}<br>streams=%{z}<extra></extra>",
         "legendgroup": "Minor",
         "marker": {
          "color": "#EF553B",
          "symbol": "circle"
         },
         "mode": "markers",
         "name": "Minor",
         "scene": "scene",
         "showlegend": true,
         "type": "scatter3d",
         "x": [
          65,
          67,
          85,
          81,
          57,
          78,
          51,
          52,
          78,
          65,
          48,
          85,
          79,
          81,
          67,
          74,
          71,
          72,
          79,
          56,
          56,
          59,
          53,
          72,
          92,
          67,
          45,
          64,
          84,
          86,
          61,
          77,
          90,
          59,
          77,
          51,
          49,
          78,
          78,
          91,
          74,
          62,
          53,
          49,
          56,
          68,
          62,
          81,
          77,
          61,
          74,
          70,
          55,
          84,
          82,
          75,
          35,
          82,
          80,
          78,
          75,
          76,
          77,
          84,
          93,
          59,
          65,
          74,
          81,
          66,
          73,
          78,
          68,
          65,
          60,
          83,
          74,
          57,
          65,
          50,
          48,
          84,
          62,
          81,
          57,
          61,
          53,
          77,
          89,
          80,
          73,
          84,
          77,
          72,
          78,
          74,
          66,
          71,
          43,
          82,
          80,
          56,
          84,
          95,
          84,
          65,
          62,
          50,
          80,
          77,
          79,
          68,
          94,
          60,
          76,
          76,
          69,
          75,
          56,
          59,
          80,
          70,
          59,
          54,
          70,
          80,
          73,
          65,
          72,
          48,
          78,
          67,
          70,
          76,
          81,
          95,
          36,
          90,
          71,
          83,
          70,
          68,
          59,
          64,
          66,
          84,
          74,
          79,
          59,
          59,
          87,
          72,
          55,
          82,
          76,
          72,
          75,
          66,
          66,
          84,
          60,
          74,
          70,
          80,
          56,
          88,
          82,
          64,
          57,
          65,
          44,
          51,
          68,
          41,
          77,
          79,
          71,
          79,
          74,
          41,
          40,
          46,
          81,
          49,
          63,
          39,
          80,
          67,
          58,
          81,
          46,
          70,
          82,
          65,
          84,
          65,
          74,
          67,
          71,
          73,
          72,
          51,
          70,
          54,
          69,
          89,
          80,
          87,
          69,
          33,
          63,
          70,
          65,
          85,
          58,
          80,
          74,
          67,
          70,
          56,
          49,
          61,
          74,
          27,
          28,
          74,
          71,
          64,
          83,
          75,
          56,
          59,
          82,
          70,
          46,
          79,
          81,
          75,
          73,
          66,
          56,
          73,
          72,
          86,
          77,
          75,
          85,
          77,
          77,
          46,
          70,
          91,
          96,
          80,
          46,
          79,
          73,
          78,
          78,
          52,
          80,
          77,
          82,
          44,
          45,
          60,
          74,
          74,
          56,
          90,
          80,
          63,
          84,
          51,
          35,
          92,
          47,
          91,
          90,
          61,
          46,
          84,
          67,
          31,
          91,
          78,
          81,
          74,
          79,
          73,
          89,
          51,
          73,
          39,
          84,
          56,
          76,
          62,
          87,
          81,
          28,
          78,
          59,
          80,
          65,
          80,
          76,
          41,
          59,
          69,
          70,
          67,
          61,
          39,
          68,
          76,
          70,
          83,
          72,
          59,
          63,
          78,
          71,
          69,
          93,
          87,
          45,
          79,
          91,
          81,
          84,
          78,
          79,
          55,
          85,
          92,
          66,
          80,
          56,
          86,
          57,
          50,
          85,
          51,
          37,
          66,
          84,
          66,
          71,
          49,
          82,
          73,
          32,
          76,
          80,
          82,
          60,
          80,
          71,
          82,
          63,
          83,
          71,
          91,
          60,
          81,
          68,
          70,
          54,
          70,
          51,
          81,
          44,
          80,
          88,
          44,
          71,
          72,
          74,
          55,
          81,
          79,
          79,
          67,
          77,
          70,
          65,
          65,
          70,
          64,
          82,
          70,
          65,
          73,
          49,
          74,
          59,
          91,
          75,
          80,
          62,
          85,
          61
         ],
         "y": [
          144,
          148,
          130,
          170,
          83,
          150,
          130,
          174,
          120,
          140,
          135,
          133,
          130,
          122,
          110,
          126,
          98,
          180,
          125,
          144,
          128,
          134,
          67,
          106,
          107,
          130,
          123,
          137,
          125,
          128,
          130,
          95,
          98,
          198,
          130,
          94,
          138,
          168,
          124,
          92,
          172,
          136,
          88,
          100,
          112,
          88,
          84,
          134,
          114,
          108,
          144,
          100,
          150,
          120,
          127,
          128,
          115,
          130,
          127,
          122,
          119,
          110,
          125,
          124,
          133,
          90,
          80,
          140,
          128,
          122,
          117,
          138,
          81,
          150,
          90,
          96,
          90,
          129,
          107,
          146,
          139,
          95,
          170,
          134,
          84,
          146,
          74,
          136,
          105,
          135,
          98,
          124,
          135,
          117,
          133,
          96,
          110,
          170,
          84,
          142,
          98,
          153,
          108,
          104,
          93,
          105,
          178,
          176,
          104,
          117,
          178,
          122,
          121,
          119,
          145,
          110,
          130,
          92,
          105,
          175,
          120,
          139,
          132,
          145,
          123,
          130,
          89,
          87,
          124,
          96,
          170,
          134,
          142,
          92,
          110,
          115,
          136,
          150,
          92,
          102,
          145,
          94,
          145,
          121,
          140,
          137,
          146,
          113,
          100,
          100,
          132,
          176,
          105,
          128,
          105,
          77,
          140,
          107,
          109,
          109,
          158,
          94,
          96,
          100,
          170,
          105,
          120,
          142,
          144,
          120,
          108,
          147,
          90,
          141,
          116,
          124,
          125,
          124,
          150,
          186,
          166,
          114,
          140,
          88,
          108,
          80,
          75,
          121,
          140,
          126,
          121,
          103,
          108,
          85,
          125,
          130,
          107,
          162,
          65,
          150,
          101,
          119,
          100,
          107,
          107,
          130,
          114,
          90,
          152,
          80,
          93,
          135,
          93,
          125,
          206,
          121,
          123,
          122,
          121,
          166,
          87,
          179,
          93,
          78,
          86,
          88,
          134,
          170,
          140,
          118,
          120,
          180,
          133,
          170,
          94,
          90,
          128,
          123,
          110,
          96,
          88,
          98,
          110,
          110,
          78,
          114,
          146,
          120,
          136,
          108,
          91,
          92,
          108,
          120,
          158,
          124,
          90,
          161,
          150,
          146,
          136,
          102,
          98,
          84,
          72,
          127,
          172,
          138,
          84,
          115,
          122,
          90,
          94,
          130,
          180,
          95,
          147,
          123,
          90,
          160,
          89,
          95,
          174,
          172,
          150,
          80,
          166,
          85,
          154,
          92,
          135,
          140,
          124,
          80,
          120,
          80,
          117,
          140,
          96,
          92,
          71,
          135,
          71,
          180,
          150,
          104,
          94,
          71,
          146,
          103,
          164,
          126,
          103,
          200,
          98,
          101,
          118,
          98,
          138,
          114,
          180,
          115,
          84,
          95,
          135,
          119,
          140,
          116,
          105,
          140,
          109,
          101,
          93,
          153,
          96,
          140,
          196,
          103,
          72,
          121,
          138,
          188,
          115,
          110,
          170,
          92,
          140,
          118,
          92,
          140,
          150,
          105,
          156,
          98,
          160,
          100,
          158,
          170,
          84,
          128,
          83,
          106,
          114,
          120,
          123,
          110,
          90,
          154,
          105,
          115,
          125,
          120,
          140,
          88,
          137,
          183,
          130,
          130,
          172,
          122,
          105,
          99,
          88,
          102,
          120,
          164,
          93,
          180,
          140,
          102,
          118,
          150,
          83,
          136,
          125,
          162,
          161,
          131,
          122,
          80,
          114,
          142,
          90
         ],
         "z": [
          303236322,
          725980112,
          95217315,
          553634067,
          505671438,
          58255150,
          387570742,
          2513188493,
          496795686,
          86444842,
          1297026226,
          200647221,
          78300654,
          61245289,
          127408954,
          22581161,
          843957510,
          618990393,
          176553476,
          354495408,
          1109433169,
          1647990401,
          518745108,
          107753850,
          153372011,
          57876440,
          1813673666,
          256483385,
          1214083358,
          16011326,
          812019557,
          357925728,
          674072710,
          373199958,
          54266102,
          751134527,
          1592909789,
          585695368,
          223633238,
          1440757818,
          95131998,
          685032533,
          38411956,
          127567540,
          983637508,
          286400165,
          1241559043,
          29562220,
          838079900,
          1163620694,
          1093605526,
          1791000570,
          201660859,
          248088961,
          90839753,
          55842345,
          2355719893,
          96273746,
          430977451,
          721975598,
          276259178,
          54225632,
          2594040133,
          81102253,
          11956641,
          611700552,
          1133865788,
          255932395,
          31873544,
          2011464183,
          929964809,
          436027885,
          950906471,
          1374581173,
          94186466,
          3562543890,
          47956378,
          2135158446,
          1264310836,
          30343206,
          405136812,
          540654286,
          57312735,
          397582059,
          1479115056,
          86773632,
          133753727,
          463564958,
          65496046,
          71007139,
          43522589,
          232896922,
          37126685,
          401036314,
          127026613,
          345031710,
          60350538,
          459276435,
          51985779,
          175097833,
          1047480053,
          573633020,
          71573339,
          1424589568,
          231332117,
          415932686,
          50847624,
          39893489,
          92035115,
          77233241,
          266624541,
          123132751,
          190490915,
          96180277,
          158950978,
          76910644,
          207033255,
          381161027,
          466231982,
          357580552,
          61105704,
          198275403,
          168448603,
          34502215,
          90025258,
          655466831,
          95816024,
          117206995,
          100409613,
          58473276,
          191945597,
          77377503,
          116334601,
          477033549,
          156214700,
          294352144,
          1947371785,
          244658767,
          68216992,
          471819764,
          272377463,
          116599790,
          497225336,
          88791109,
          125917280,
          105062254,
          298063749,
          221409663,
          363472647,
          372476382,
          380726517,
          175399345,
          1624165576,
          70069745,
          362361576,
          1223481149,
          1022258230,
          147538971,
          698086140,
          723894473,
          403097450,
          309483971,
          319566866,
          909001996,
          124988687,
          301051721,
          309653982,
          332506354,
          480507035,
          1065580332,
          184308753,
          789753877,
          120972253,
          338564981,
          140187018,
          1897517891,
          107642809,
          2303033973,
          1814349763,
          872137015,
          571386359,
          163284000,
          78489819,
          195516622,
          1024858327,
          838586769,
          199386237,
          972509632,
          213438580,
          1555511105,
          826623384,
          1802514301,
          1329090101,
          181831132,
          462791599,
          90598517,
          1159176109,
          629173063,
          110849052,
          94005786,
          351636786,
          73981293,
          136689549,
          356709897,
          127027715,
          116144341,
          608228647,
          809306935,
          245350949,
          78139948,
          322336177,
          391251368,
          339659802,
          674772936,
          432719968,
          119238316,
          116903579,
          888046992,
          130655803,
          1887039593,
          101114984,
          1735441776,
          726837877,
          53933526,
          74601456,
          920797189,
          1367810478,
          775542072,
          863625566,
          656013912,
          611994237,
          582981380,
          240684449,
          236940480,
          41924466,
          393230256,
          1168642797,
          510876816,
          1763363713,
          374191487,
          108809090,
          436695353,
          421040617,
          354065229,
          311395144,
          1692897992,
          594482982,
          566954746,
          374706940,
          31959571,
          1699402402,
          516784627,
          261286503,
          1062345656,
          263894529,
          427486004,
          156658366,
          624515457,
          1138474110,
          1062956628,
          489945871,
          465959382,
          2864791672,
          2288695111,
          991336132,
          77337771,
          528544703,
          211372494,
          223319934,
          54937991,
          258316038,
          177129919,
          716591492,
          246376690,
          496311364,
          843309044,
          107255472,
          822239726,
          1202722675,
          343197054,
          467727006,
          327498031,
          245400167,
          252871192,
          1929770265,
          918915401,
          1180896317,
          258714692,
          143139338,
          209768491,
          154119539,
          181328253,
          291709698,
          203680270,
          81350745,
          282883169,
          2484812918,
          461437791,
          682475162,
          546191065,
          121913181,
          208166039,
          94616487,
          394030335,
          193443895,
          153240879,
          312622938,
          2197010679,
          1200808494,
          797196073,
          665765558,
          339473453,
          2204080728,
          135444283,
          236872197,
          924193303,
          305771063,
          273005485,
          89566512,
          677389855,
          75476209,
          187772591,
          126443991,
          157990698,
          176290831,
          139193812,
          807015863,
          933815613,
          120847157,
          301242089,
          723894473,
          237351106,
          417230415,
          127309180,
          173702135,
          123216717,
          479655659,
          344055883,
          61739839,
          283359161,
          76831876,
          283332261,
          246127838,
          582863434,
          42485571,
          53603447,
          160035717,
          37091576,
          284249832,
          33381454,
          106919680,
          65719930,
          1284942608,
          71423324,
          448500832,
          190625045,
          79095270,
          333146475,
          194902696,
          248511839,
          91781263,
          189236868,
          187703102,
          295307001,
          286739476,
          157136970,
          183273246,
          164856284,
          704171068,
          354614964,
          195628667,
          263280370,
          130419412,
          293466523,
          191448892,
          131746175,
          129314708,
          170732845,
          179061440,
          171788484,
          264717480,
          287278853,
          887906111,
          239411309,
          189476119,
          278920007,
          222410722,
          185392587,
          148461629,
          380319238,
          209106362,
          115331792,
          84697729,
          170709584,
          140430339,
          85559365,
          187701588,
          154863153,
          191333656,
          253650850,
          71095708,
          93367537,
          96007391
         ]
        }
       ],
       "layout": {
        "legend": {
         "title": {
          "text": "mode"
         },
         "tracegroupgap": 0
        },
        "margin": {
         "t": 60
        },
        "scene": {
         "domain": {
          "x": [
           0,
           1
          ],
          "y": [
           0,
           1
          ]
         },
         "xaxis": {
          "title": {
           "text": "danceability_%"
          }
         },
         "yaxis": {
          "title": {
           "text": "bpm"
          }
         },
         "zaxis": {
          "title": {
           "text": "streams"
          }
         }
        },
        "template": {
         "data": {
          "bar": [
           {
            "error_x": {
             "color": "#2a3f5f"
            },
            "error_y": {
             "color": "#2a3f5f"
            },
            "marker": {
             "line": {
              "color": "#E5ECF6",
              "width": 0.5
             },
             "pattern": {
              "fillmode": "overlay",
              "size": 10,
              "solidity": 0.2
             }
            },
            "type": "bar"
           }
          ],
          "barpolar": [
           {
            "marker": {
             "line": {
              "color": "#E5ECF6",
              "width": 0.5
             },
             "pattern": {
              "fillmode": "overlay",
              "size": 10,
              "solidity": 0.2
             }
            },
            "type": "barpolar"
           }
          ],
          "carpet": [
           {
            "aaxis": {
             "endlinecolor": "#2a3f5f",
             "gridcolor": "white",
             "linecolor": "white",
             "minorgridcolor": "white",
             "startlinecolor": "#2a3f5f"
            },
            "baxis": {
             "endlinecolor": "#2a3f5f",
             "gridcolor": "white",
             "linecolor": "white",
             "minorgridcolor": "white",
             "startlinecolor": "#2a3f5f"
            },
            "type": "carpet"
           }
          ],
          "choropleth": [
           {
            "colorbar": {
             "outlinewidth": 0,
             "ticks": ""
            },
            "type": "choropleth"
           }
          ],
          "contour": [
           {
            "colorbar": {
             "outlinewidth": 0,
             "ticks": ""
            },
            "colorscale": [
             [
              0,
              "#0d0887"
             ],
             [
              0.1111111111111111,
              "#46039f"
             ],
             [
              0.2222222222222222,
              "#7201a8"
             ],
             [
              0.3333333333333333,
              "#9c179e"
             ],
             [
              0.4444444444444444,
              "#bd3786"
             ],
             [
              0.5555555555555556,
              "#d8576b"
             ],
             [
              0.6666666666666666,
              "#ed7953"
             ],
             [
              0.7777777777777778,
              "#fb9f3a"
             ],
             [
              0.8888888888888888,
              "#fdca26"
             ],
             [
              1,
              "#f0f921"
             ]
            ],
            "type": "contour"
           }
          ],
          "contourcarpet": [
           {
            "colorbar": {
             "outlinewidth": 0,
             "ticks": ""
            },
            "type": "contourcarpet"
           }
          ],
          "heatmap": [
           {
            "colorbar": {
             "outlinewidth": 0,
             "ticks": ""
            },
            "colorscale": [
             [
              0,
              "#0d0887"
             ],
             [
              0.1111111111111111,
              "#46039f"
             ],
             [
              0.2222222222222222,
              "#7201a8"
             ],
             [
              0.3333333333333333,
              "#9c179e"
             ],
             [
              0.4444444444444444,
              "#bd3786"
             ],
             [
              0.5555555555555556,
              "#d8576b"
             ],
             [
              0.6666666666666666,
              "#ed7953"
             ],
             [
              0.7777777777777778,
              "#fb9f3a"
             ],
             [
              0.8888888888888888,
              "#fdca26"
             ],
             [
              1,
              "#f0f921"
             ]
            ],
            "type": "heatmap"
           }
          ],
          "heatmapgl": [
           {
            "colorbar": {
             "outlinewidth": 0,
             "ticks": ""
            },
            "colorscale": [
             [
              0,
              "#0d0887"
             ],
             [
              0.1111111111111111,
              "#46039f"
             ],
             [
              0.2222222222222222,
              "#7201a8"
             ],
             [
              0.3333333333333333,
              "#9c179e"
             ],
             [
              0.4444444444444444,
              "#bd3786"
             ],
             [
              0.5555555555555556,
              "#d8576b"
             ],
             [
              0.6666666666666666,
              "#ed7953"
             ],
             [
              0.7777777777777778,
              "#fb9f3a"
             ],
             [
              0.8888888888888888,
              "#fdca26"
             ],
             [
              1,
              "#f0f921"
             ]
            ],
            "type": "heatmapgl"
           }
          ],
          "histogram": [
           {
            "marker": {
             "pattern": {
              "fillmode": "overlay",
              "size": 10,
              "solidity": 0.2
             }
            },
            "type": "histogram"
           }
          ],
          "histogram2d": [
           {
            "colorbar": {
             "outlinewidth": 0,
             "ticks": ""
            },
            "colorscale": [
             [
              0,
              "#0d0887"
             ],
             [
              0.1111111111111111,
              "#46039f"
             ],
             [
              0.2222222222222222,
              "#7201a8"
             ],
             [
              0.3333333333333333,
              "#9c179e"
             ],
             [
              0.4444444444444444,
              "#bd3786"
             ],
             [
              0.5555555555555556,
              "#d8576b"
             ],
             [
              0.6666666666666666,
              "#ed7953"
             ],
             [
              0.7777777777777778,
              "#fb9f3a"
             ],
             [
              0.8888888888888888,
              "#fdca26"
             ],
             [
              1,
              "#f0f921"
             ]
            ],
            "type": "histogram2d"
           }
          ],
          "histogram2dcontour": [
           {
            "colorbar": {
             "outlinewidth": 0,
             "ticks": ""
            },
            "colorscale": [
             [
              0,
              "#0d0887"
             ],
             [
              0.1111111111111111,
              "#46039f"
             ],
             [
              0.2222222222222222,
              "#7201a8"
             ],
             [
              0.3333333333333333,
              "#9c179e"
             ],
             [
              0.4444444444444444,
              "#bd3786"
             ],
             [
              0.5555555555555556,
              "#d8576b"
             ],
             [
              0.6666666666666666,
              "#ed7953"
             ],
             [
              0.7777777777777778,
              "#fb9f3a"
             ],
             [
              0.8888888888888888,
              "#fdca26"
             ],
             [
              1,
              "#f0f921"
             ]
            ],
            "type": "histogram2dcontour"
           }
          ],
          "mesh3d": [
           {
            "colorbar": {
             "outlinewidth": 0,
             "ticks": ""
            },
            "type": "mesh3d"
           }
          ],
          "parcoords": [
           {
            "line": {
             "colorbar": {
              "outlinewidth": 0,
              "ticks": ""
             }
            },
            "type": "parcoords"
           }
          ],
          "pie": [
           {
            "automargin": true,
            "type": "pie"
           }
          ],
          "scatter": [
           {
            "fillpattern": {
             "fillmode": "overlay",
             "size": 10,
             "solidity": 0.2
            },
            "type": "scatter"
           }
          ],
          "scatter3d": [
           {
            "line": {
             "colorbar": {
              "outlinewidth": 0,
              "ticks": ""
             }
            },
            "marker": {
             "colorbar": {
              "outlinewidth": 0,
              "ticks": ""
             }
            },
            "type": "scatter3d"
           }
          ],
          "scattercarpet": [
           {
            "marker": {
             "colorbar": {
              "outlinewidth": 0,
              "ticks": ""
             }
            },
            "type": "scattercarpet"
           }
          ],
          "scattergeo": [
           {
            "marker": {
             "colorbar": {
              "outlinewidth": 0,
              "ticks": ""
             }
            },
            "type": "scattergeo"
           }
          ],
          "scattergl": [
           {
            "marker": {
             "colorbar": {
              "outlinewidth": 0,
              "ticks": ""
             }
            },
            "type": "scattergl"
           }
          ],
          "scattermapbox": [
           {
            "marker": {
             "colorbar": {
              "outlinewidth": 0,
              "ticks": ""
             }
            },
            "type": "scattermapbox"
           }
          ],
          "scatterpolar": [
           {
            "marker": {
             "colorbar": {
              "outlinewidth": 0,
              "ticks": ""
             }
            },
            "type": "scatterpolar"
           }
          ],
          "scatterpolargl": [
           {
            "marker": {
             "colorbar": {
              "outlinewidth": 0,
              "ticks": ""
             }
            },
            "type": "scatterpolargl"
           }
          ],
          "scatterternary": [
           {
            "marker": {
             "colorbar": {
              "outlinewidth": 0,
              "ticks": ""
             }
            },
            "type": "scatterternary"
           }
          ],
          "surface": [
           {
            "colorbar": {
             "outlinewidth": 0,
             "ticks": ""
            },
            "colorscale": [
             [
              0,
              "#0d0887"
             ],
             [
              0.1111111111111111,
              "#46039f"
             ],
             [
              0.2222222222222222,
              "#7201a8"
             ],
             [
              0.3333333333333333,
              "#9c179e"
             ],
             [
              0.4444444444444444,
              "#bd3786"
             ],
             [
              0.5555555555555556,
              "#d8576b"
             ],
             [
              0.6666666666666666,
              "#ed7953"
             ],
             [
              0.7777777777777778,
              "#fb9f3a"
             ],
             [
              0.8888888888888888,
              "#fdca26"
             ],
             [
              1,
              "#f0f921"
             ]
            ],
            "type": "surface"
           }
          ],
          "table": [
           {
            "cells": {
             "fill": {
              "color": "#EBF0F8"
             },
             "line": {
              "color": "white"
             }
            },
            "header": {
             "fill": {
              "color": "#C8D4E3"
             },
             "line": {
              "color": "white"
             }
            },
            "type": "table"
           }
          ]
         },
         "layout": {
          "annotationdefaults": {
           "arrowcolor": "#2a3f5f",
           "arrowhead": 0,
           "arrowwidth": 1
          },
          "autotypenumbers": "strict",
          "coloraxis": {
           "colorbar": {
            "outlinewidth": 0,
            "ticks": ""
           }
          },
          "colorscale": {
           "diverging": [
            [
             0,
             "#8e0152"
            ],
            [
             0.1,
             "#c51b7d"
            ],
            [
             0.2,
             "#de77ae"
            ],
            [
             0.3,
             "#f1b6da"
            ],
            [
             0.4,
             "#fde0ef"
            ],
            [
             0.5,
             "#f7f7f7"
            ],
            [
             0.6,
             "#e6f5d0"
            ],
            [
             0.7,
             "#b8e186"
            ],
            [
             0.8,
             "#7fbc41"
            ],
            [
             0.9,
             "#4d9221"
            ],
            [
             1,
             "#276419"
            ]
           ],
           "sequential": [
            [
             0,
             "#0d0887"
            ],
            [
             0.1111111111111111,
             "#46039f"
            ],
            [
             0.2222222222222222,
             "#7201a8"
            ],
            [
             0.3333333333333333,
             "#9c179e"
            ],
            [
             0.4444444444444444,
             "#bd3786"
            ],
            [
             0.5555555555555556,
             "#d8576b"
            ],
            [
             0.6666666666666666,
             "#ed7953"
            ],
            [
             0.7777777777777778,
             "#fb9f3a"
            ],
            [
             0.8888888888888888,
             "#fdca26"
            ],
            [
             1,
             "#f0f921"
            ]
           ],
           "sequentialminus": [
            [
             0,
             "#0d0887"
            ],
            [
             0.1111111111111111,
             "#46039f"
            ],
            [
             0.2222222222222222,
             "#7201a8"
            ],
            [
             0.3333333333333333,
             "#9c179e"
            ],
            [
             0.4444444444444444,
             "#bd3786"
            ],
            [
             0.5555555555555556,
             "#d8576b"
            ],
            [
             0.6666666666666666,
             "#ed7953"
            ],
            [
             0.7777777777777778,
             "#fb9f3a"
            ],
            [
             0.8888888888888888,
             "#fdca26"
            ],
            [
             1,
             "#f0f921"
            ]
           ]
          },
          "colorway": [
           "#636efa",
           "#EF553B",
           "#00cc96",
           "#ab63fa",
           "#FFA15A",
           "#19d3f3",
           "#FF6692",
           "#B6E880",
           "#FF97FF",
           "#FECB52"
          ],
          "font": {
           "color": "#2a3f5f"
          },
          "geo": {
           "bgcolor": "white",
           "lakecolor": "white",
           "landcolor": "#E5ECF6",
           "showlakes": true,
           "showland": true,
           "subunitcolor": "white"
          },
          "hoverlabel": {
           "align": "left"
          },
          "hovermode": "closest",
          "mapbox": {
           "style": "light"
          },
          "paper_bgcolor": "white",
          "plot_bgcolor": "#E5ECF6",
          "polar": {
           "angularaxis": {
            "gridcolor": "white",
            "linecolor": "white",
            "ticks": ""
           },
           "bgcolor": "#E5ECF6",
           "radialaxis": {
            "gridcolor": "white",
            "linecolor": "white",
            "ticks": ""
           }
          },
          "scene": {
           "xaxis": {
            "backgroundcolor": "#E5ECF6",
            "gridcolor": "white",
            "gridwidth": 2,
            "linecolor": "white",
            "showbackground": true,
            "ticks": "",
            "zerolinecolor": "white"
           },
           "yaxis": {
            "backgroundcolor": "#E5ECF6",
            "gridcolor": "white",
            "gridwidth": 2,
            "linecolor": "white",
            "showbackground": true,
            "ticks": "",
            "zerolinecolor": "white"
           },
           "zaxis": {
            "backgroundcolor": "#E5ECF6",
            "gridcolor": "white",
            "gridwidth": 2,
            "linecolor": "white",
            "showbackground": true,
            "ticks": "",
            "zerolinecolor": "white"
           }
          },
          "shapedefaults": {
           "line": {
            "color": "#2a3f5f"
           }
          },
          "ternary": {
           "aaxis": {
            "gridcolor": "white",
            "linecolor": "white",
            "ticks": ""
           },
           "baxis": {
            "gridcolor": "white",
            "linecolor": "white",
            "ticks": ""
           },
           "bgcolor": "#E5ECF6",
           "caxis": {
            "gridcolor": "white",
            "linecolor": "white",
            "ticks": ""
           }
          },
          "title": {
           "x": 0.05
          },
          "xaxis": {
           "automargin": true,
           "gridcolor": "white",
           "linecolor": "white",
           "ticks": "",
           "title": {
            "standoff": 15
           },
           "zerolinecolor": "white",
           "zerolinewidth": 2
          },
          "yaxis": {
           "automargin": true,
           "gridcolor": "white",
           "linecolor": "white",
           "ticks": "",
           "title": {
            "standoff": 15
           },
           "zerolinecolor": "white",
           "zerolinewidth": 2
          }
         }
        }
       }
      }
     },
     "metadata": {},
     "output_type": "display_data"
    }
   ],
   "source": [
    "fig = px.scatter_3d(spotify, x='danceability_%', y='bpm', z='streams', color='mode')\n",
    "fig.show()"
   ]
  },
  {
   "cell_type": "code",
   "execution_count": 13,
   "metadata": {},
   "outputs": [
    {
     "data": {
      "image/png": "[encoded data removed]",
      "text/plain": [
       "<Figure size 640x480 with 1 Axes>"
      ]
     },
     "metadata": {},
     "output_type": "display_data"
    }
   ],
   "source": [
    "sns.scatterplot(\n",
    "    data=spotify,\n",
    "    x=\"energy_%\",\n",
    "    y=\"liveness_%\",\n",
    "    size=\"streams\",\n",
    "    hue=\"streams\",\n",
    "    palette=\"magma\",\n",
    "    alpha=0.5,\n",
    ")\n",
    "plots.legend(title=\"Streams\", bbox_to_anchor=(1.05, 0.95), loc=\"upper left\")\n",
    "_ = plots.title(\"Streams depending of\\n liveness and energy\")"
   ]
  },
  {
   "cell_type": "code",
   "execution_count": 14,
   "metadata": {},
   "outputs": [
    {
     "data": {
      "text/plain": [
       "<AxesSubplot:xlabel='Count', ylabel='released_month'>"
      ]
     },
     "execution_count": 14,
     "metadata": {},
     "output_type": "execute_result"
    },
    {
     "data": {
      "image/png": "[encoded data removed]",
      "text/plain": [
       "<Figure size 640x480 with 1 Axes>"
      ]
     },
     "metadata": {},
     "output_type": "display_data"
    }
   ],
   "source": [
    "sns.histplot(data=spotify, y=\"released_month\")"
   ]
  }
 ],
 "metadata": {
  "kernelspec": {
   "display_name": "Python 3",
   "language": "python",
   "name": "python3"
  },
  "language_info": {
   "codemirror_mode": {
    "name": "ipython",
    "version": 3
   },
   "file_extension": ".py",
   "mimetype": "text/x-python",
   "name": "python",
   "nbconvert_exporter": "python",
   "pygments_lexer": "ipython3",
   "version": "3.10.6"
  }
 },
 "nbformat": 4,
 "nbformat_minor": 2
}
